{
 "cells": [
  {
   "cell_type": "code",
   "execution_count": 51,
   "metadata": {
    "collapsed": true
   },
   "outputs": [],
   "source": [
    "%matplotlib inline\n",
    "import pandas as pd\n",
    "import random\n",
    "import numpy as np\n",
    "from random import sample\n",
    "import seaborn as sns\n",
    "from scipy import stats\n",
    "sns.set(style='white', color_codes=True, font_scale=1.3)"
   ]
  },
  {
   "cell_type": "code",
   "execution_count": 2,
   "metadata": {},
   "outputs": [
    {
     "data": {
      "text/html": [
       "<style>body {\n",
       "    margin: 0;\n",
       "    font-family: Helvetica;\n",
       "}\n",
       "table.dataframe {\n",
       "    border-collapse: collapse;\n",
       "    border: none;\n",
       "}\n",
       "table.dataframe tr {\n",
       "    border: none;\n",
       "}\n",
       "table.dataframe td, table.dataframe th {\n",
       "    margin: 0;\n",
       "    border: 1px solid white;\n",
       "    padding-left: 0.25em;\n",
       "    padding-right: 0.25em;\n",
       "}\n",
       "table.dataframe th:not(:empty) {\n",
       "    background-color: #fec;\n",
       "    text-align: left;\n",
       "    font-weight: normal;\n",
       "}\n",
       "table.dataframe tr:nth-child(2) th:empty {\n",
       "    border-left: none;\n",
       "    border-right: 1px dashed #888;\n",
       "}\n",
       "table.dataframe td {\n",
       "    border: 2px solid #ccf;\n",
       "    background-color: #f4f4ff;\n",
       "}\n",
       "h3 {\n",
       "    color: white;\n",
       "    background-color: black;\n",
       "    padding: 0.5em;\n",
       "}\n",
       "</style>"
      ],
      "text/plain": [
       "<IPython.core.display.HTML object>"
      ]
     },
     "execution_count": 2,
     "metadata": {},
     "output_type": "execute_result"
    }
   ],
   "source": [
    "from IPython.core.display import HTML\n",
    "css = open('style-table.css').read() + open('style-notebook.css').read()\n",
    "HTML('<style>{}</style>'.format(css))"
   ]
  },
  {
   "cell_type": "code",
   "execution_count": 3,
   "metadata": {},
   "outputs": [
    {
     "data": {
      "text/html": [
       "<div>\n",
       "<style>\n",
       "    .dataframe thead tr:only-child th {\n",
       "        text-align: right;\n",
       "    }\n",
       "\n",
       "    .dataframe thead th {\n",
       "        text-align: left;\n",
       "    }\n",
       "\n",
       "    .dataframe tbody tr th {\n",
       "        vertical-align: top;\n",
       "    }\n",
       "</style>\n",
       "<table border=\"1\" class=\"dataframe\">\n",
       "  <thead>\n",
       "    <tr style=\"text-align: right;\">\n",
       "      <th></th>\n",
       "      <th>Execution No.</th>\n",
       "      <th>TDCJ Number</th>\n",
       "      <th>First Name</th>\n",
       "      <th>Last Name</th>\n",
       "      <th>Date Received</th>\n",
       "      <th>Age Received</th>\n",
       "      <th>Date of Offense</th>\n",
       "      <th>Age at Offense</th>\n",
       "      <th>Execution Date</th>\n",
       "      <th>Execution Age</th>\n",
       "      <th>...</th>\n",
       "      <th>Education Level</th>\n",
       "      <th>Weight</th>\n",
       "      <th>Eye Color</th>\n",
       "      <th>Hair Color</th>\n",
       "      <th>Native State</th>\n",
       "      <th>Last Statement</th>\n",
       "      <th>Sentiment</th>\n",
       "      <th>More Info URL</th>\n",
       "      <th>Last Statement URL</th>\n",
       "      <th>Poverty Rate</th>\n",
       "    </tr>\n",
       "  </thead>\n",
       "  <tbody>\n",
       "    <tr>\n",
       "      <th>0</th>\n",
       "      <td>545</td>\n",
       "      <td>999275</td>\n",
       "      <td>Ruben</td>\n",
       "      <td>Cardenas</td>\n",
       "      <td>07/29/1998</td>\n",
       "      <td>28.0</td>\n",
       "      <td>02/22/1997</td>\n",
       "      <td>26.0</td>\n",
       "      <td>11/09/2017</td>\n",
       "      <td>47</td>\n",
       "      <td>...</td>\n",
       "      <td>11.0</td>\n",
       "      <td>204.0</td>\n",
       "      <td>Brown</td>\n",
       "      <td>Black</td>\n",
       "      <td>Mexico</td>\n",
       "      <td>This is my statement:Â  My final words.Â  Firs...</td>\n",
       "      <td>-1</td>\n",
       "      <td>https://www.tdcj.state.tx.us/death_row/dr_info...</td>\n",
       "      <td>https://www.tdcj.state.tx.us/death_row/dr_info...</td>\n",
       "      <td>45.4</td>\n",
       "    </tr>\n",
       "    <tr>\n",
       "      <th>1</th>\n",
       "      <td>544</td>\n",
       "      <td>999411</td>\n",
       "      <td>Robert</td>\n",
       "      <td>Pruett</td>\n",
       "      <td>04/30/2002</td>\n",
       "      <td>22.0</td>\n",
       "      <td>12/17/1999</td>\n",
       "      <td>20.0</td>\n",
       "      <td>10/12/2017</td>\n",
       "      <td>38</td>\n",
       "      <td>...</td>\n",
       "      <td>8.0</td>\n",
       "      <td>160.0</td>\n",
       "      <td>Brown</td>\n",
       "      <td>Blonde</td>\n",
       "      <td>Texas</td>\n",
       "      <td>I just want to let everyone in here to know I ...</td>\n",
       "      <td>-1</td>\n",
       "      <td>https://www.tdcj.state.tx.us/death_row/dr_info...</td>\n",
       "      <td>https://www.tdcj.state.tx.us/death_row/dr_info...</td>\n",
       "      <td>26.6</td>\n",
       "    </tr>\n",
       "    <tr>\n",
       "      <th>2</th>\n",
       "      <td>543</td>\n",
       "      <td>999494</td>\n",
       "      <td>Taichin</td>\n",
       "      <td>Preyor</td>\n",
       "      <td>03/30/2005</td>\n",
       "      <td>34.0</td>\n",
       "      <td>02/26/2004</td>\n",
       "      <td>33.0</td>\n",
       "      <td>7/27/2017</td>\n",
       "      <td>46</td>\n",
       "      <td>...</td>\n",
       "      <td>10.0</td>\n",
       "      <td>219.0</td>\n",
       "      <td>Brown</td>\n",
       "      <td>Black</td>\n",
       "      <td>Texas</td>\n",
       "      <td>First and foremost I'd like to say, \"Justice h...</td>\n",
       "      <td>1</td>\n",
       "      <td>https://www.tdcj.state.tx.us/death_row/dr_info...</td>\n",
       "      <td>https://www.tdcj.state.tx.us/death_row/dr_info...</td>\n",
       "      <td>21.6</td>\n",
       "    </tr>\n",
       "    <tr>\n",
       "      <th>3</th>\n",
       "      <td>542</td>\n",
       "      <td>997</td>\n",
       "      <td>James</td>\n",
       "      <td>Bigby</td>\n",
       "      <td>NaN</td>\n",
       "      <td>NaN</td>\n",
       "      <td>NaN</td>\n",
       "      <td>NaN</td>\n",
       "      <td>3/14/2017</td>\n",
       "      <td>61</td>\n",
       "      <td>...</td>\n",
       "      <td>NaN</td>\n",
       "      <td>NaN</td>\n",
       "      <td>NaN</td>\n",
       "      <td>NaN</td>\n",
       "      <td>NaN</td>\n",
       "      <td>Yes, I do, Grace Kehler is that you? I have gi...</td>\n",
       "      <td>-1</td>\n",
       "      <td>https://www.tdcj.state.tx.us/death_row/dr_info...</td>\n",
       "      <td>https://www.tdcj.state.tx.us/death_row/dr_info...</td>\n",
       "      <td>12.3</td>\n",
       "    </tr>\n",
       "    <tr>\n",
       "      <th>4</th>\n",
       "      <td>541</td>\n",
       "      <td>999145</td>\n",
       "      <td>Rolando</td>\n",
       "      <td>Ruiz</td>\n",
       "      <td>NaN</td>\n",
       "      <td>NaN</td>\n",
       "      <td>NaN</td>\n",
       "      <td>NaN</td>\n",
       "      <td>3/07/2017</td>\n",
       "      <td>44</td>\n",
       "      <td>...</td>\n",
       "      <td>NaN</td>\n",
       "      <td>NaN</td>\n",
       "      <td>NaN</td>\n",
       "      <td>NaN</td>\n",
       "      <td>NaN</td>\n",
       "      <td>Yes sir, I would first like to say to the Sanc...</td>\n",
       "      <td>1</td>\n",
       "      <td>https://www.tdcj.state.tx.us/death_row/dr_info...</td>\n",
       "      <td>https://www.tdcj.state.tx.us/death_row/dr_info...</td>\n",
       "      <td>19.4</td>\n",
       "    </tr>\n",
       "  </tbody>\n",
       "</table>\n",
       "<p>5 rows × 24 columns</p>\n",
       "</div>"
      ],
      "text/plain": [
       "   Execution No.  TDCJ Number First Name Last Name Date Received  \\\n",
       "0            545       999275      Ruben  Cardenas    07/29/1998   \n",
       "1            544       999411     Robert    Pruett    04/30/2002   \n",
       "2            543       999494    Taichin    Preyor    03/30/2005   \n",
       "3            542          997      James     Bigby           NaN   \n",
       "4            541       999145    Rolando      Ruiz           NaN   \n",
       "\n",
       "   Age Received Date of Offense  Age at Offense Execution Date  Execution Age  \\\n",
       "0          28.0      02/22/1997            26.0     11/09/2017             47   \n",
       "1          22.0      12/17/1999            20.0     10/12/2017             38   \n",
       "2          34.0      02/26/2004            33.0      7/27/2017             46   \n",
       "3           NaN             NaN             NaN      3/14/2017             61   \n",
       "4           NaN             NaN             NaN      3/07/2017             44   \n",
       "\n",
       "      ...      Education Level Weight Eye Color Hair Color  Native State  \\\n",
       "0     ...                 11.0  204.0     Brown      Black        Mexico   \n",
       "1     ...                  8.0  160.0     Brown     Blonde         Texas   \n",
       "2     ...                 10.0  219.0     Brown      Black         Texas   \n",
       "3     ...                  NaN    NaN       NaN        NaN           NaN   \n",
       "4     ...                  NaN    NaN       NaN        NaN           NaN   \n",
       "\n",
       "                                      Last Statement Sentiment  \\\n",
       "0  This is my statement:Â  My final words.Â  Firs...        -1   \n",
       "1  I just want to let everyone in here to know I ...        -1   \n",
       "2  First and foremost I'd like to say, \"Justice h...         1   \n",
       "3  Yes, I do, Grace Kehler is that you? I have gi...        -1   \n",
       "4  Yes sir, I would first like to say to the Sanc...         1   \n",
       "\n",
       "                                       More Info URL  \\\n",
       "0  https://www.tdcj.state.tx.us/death_row/dr_info...   \n",
       "1  https://www.tdcj.state.tx.us/death_row/dr_info...   \n",
       "2  https://www.tdcj.state.tx.us/death_row/dr_info...   \n",
       "3  https://www.tdcj.state.tx.us/death_row/dr_info...   \n",
       "4  https://www.tdcj.state.tx.us/death_row/dr_info...   \n",
       "\n",
       "                                  Last Statement URL Poverty Rate  \n",
       "0  https://www.tdcj.state.tx.us/death_row/dr_info...         45.4  \n",
       "1  https://www.tdcj.state.tx.us/death_row/dr_info...         26.6  \n",
       "2  https://www.tdcj.state.tx.us/death_row/dr_info...         21.6  \n",
       "3  https://www.tdcj.state.tx.us/death_row/dr_info...         12.3  \n",
       "4  https://www.tdcj.state.tx.us/death_row/dr_info...         19.4  \n",
       "\n",
       "[5 rows x 24 columns]"
      ]
     },
     "execution_count": 3,
     "metadata": {},
     "output_type": "execute_result"
    }
   ],
   "source": [
    "df_inmates = pd.read_csv('exinmates.csv')\n",
    "df_inmates.head()"
   ]
  },
  {
   "cell_type": "code",
   "execution_count": 4,
   "metadata": {},
   "outputs": [
    {
     "data": {
      "text/plain": [
       "28.564935064935064"
      ]
     },
     "execution_count": 4,
     "metadata": {},
     "output_type": "execute_result"
    }
   ],
   "source": [
    "df_inmates['Age Received'].mean()"
   ]
  },
  {
   "cell_type": "code",
   "execution_count": 5,
   "metadata": {},
   "outputs": [
    {
     "data": {
      "text/plain": [
       "26.954545454545453"
      ]
     },
     "execution_count": 5,
     "metadata": {},
     "output_type": "execute_result"
    }
   ],
   "source": [
    "df_inmates['Age at Offense'].mean()"
   ]
  },
  {
   "cell_type": "markdown",
   "metadata": {},
   "source": [
    "Most inmates on average enter death row approximately 2.5 years after their offense (quick turn around time)."
   ]
  },
  {
   "cell_type": "code",
   "execution_count": 6,
   "metadata": {},
   "outputs": [
    {
     "data": {
      "text/plain": [
       "39.3394495412844"
      ]
     },
     "execution_count": 6,
     "metadata": {},
     "output_type": "execute_result"
    }
   ],
   "source": [
    "df_inmates['Execution Age'].mean()"
   ]
  },
  {
   "cell_type": "markdown",
   "metadata": {},
   "source": [
    "Most inmates on average stay on death row for approximately 11 years before being executed."
   ]
  },
  {
   "cell_type": "code",
   "execution_count": 7,
   "metadata": {},
   "outputs": [
    {
     "data": {
      "text/plain": [
       "Male      150\n",
       "Female      3\n",
       "male        1\n",
       "Name: Gender, dtype: int64"
      ]
     },
     "execution_count": 7,
     "metadata": {},
     "output_type": "execute_result"
    }
   ],
   "source": [
    "df_inmates['Gender'].value_counts()"
   ]
  },
  {
   "cell_type": "markdown",
   "metadata": {},
   "source": [
    "Clearly, males outnumber females."
   ]
  },
  {
   "cell_type": "code",
   "execution_count": 8,
   "metadata": {},
   "outputs": [
    {
     "data": {
      "text/plain": [
       "White       242\n",
       "Black       198\n",
       "Hispanic    103\n",
       "Other         2\n",
       "Name: Race, dtype: int64"
      ]
     },
     "execution_count": 8,
     "metadata": {},
     "output_type": "execute_result"
    }
   ],
   "source": [
    "df_inmates['Race'].value_counts()"
   ]
  },
  {
   "cell_type": "markdown",
   "metadata": {},
   "source": [
    "A majority of inmates being White, with a close 2nd of Black."
   ]
  },
  {
   "cell_type": "code",
   "execution_count": 9,
   "metadata": {},
   "outputs": [
    {
     "data": {
      "text/plain": [
       "12.0"
      ]
     },
     "execution_count": 9,
     "metadata": {},
     "output_type": "execute_result"
    }
   ],
   "source": [
    "df_inmates['Education Level'].max()"
   ]
  },
  {
   "cell_type": "code",
   "execution_count": 10,
   "metadata": {},
   "outputs": [
    {
     "data": {
      "text/plain": [
       "3.0"
      ]
     },
     "execution_count": 10,
     "metadata": {},
     "output_type": "execute_result"
    }
   ],
   "source": [
    "df_inmates['Education Level'].min()"
   ]
  },
  {
   "cell_type": "code",
   "execution_count": 11,
   "metadata": {},
   "outputs": [
    {
     "data": {
      "text/plain": [
       "9.876623376623376"
      ]
     },
     "execution_count": 11,
     "metadata": {},
     "output_type": "execute_result"
    }
   ],
   "source": [
    "df_inmates['Education Level'].mean()"
   ]
  },
  {
   "cell_type": "markdown",
   "metadata": {},
   "source": [
    "The lowest being 3rd grade and the highest finishing high school, inmates average an education level of 9th grade."
   ]
  },
  {
   "cell_type": "code",
   "execution_count": 12,
   "metadata": {},
   "outputs": [
    {
     "data": {
      "text/plain": [
       " 1    200\n",
       " 0    192\n",
       "-1    153\n",
       "Name: Sentiment, dtype: int64"
      ]
     },
     "execution_count": 12,
     "metadata": {},
     "output_type": "execute_result"
    }
   ],
   "source": [
    "df_inmates['Sentiment'].value_counts()"
   ]
  },
  {
   "cell_type": "markdown",
   "metadata": {},
   "source": [
    "A very close distribution between positive, negative, and neutral sentiments.  However, inmates are more positive at the time of their death."
   ]
  },
  {
   "cell_type": "code",
   "execution_count": 13,
   "metadata": {},
   "outputs": [
    {
     "data": {
      "text/plain": [
       "17.570458715596356"
      ]
     },
     "execution_count": 13,
     "metadata": {},
     "output_type": "execute_result"
    }
   ],
   "source": [
    "df_inmates['Poverty Rate'].mean()"
   ]
  },
  {
   "cell_type": "markdown",
   "metadata": {},
   "source": [
    "The average poverty county rate in Texas is 17.5%"
   ]
  },
  {
   "cell_type": "code",
   "execution_count": 48,
   "metadata": {},
   "outputs": [
    {
     "data": {
      "text/plain": [
       "Harris         126\n",
       "Dallas          56\n",
       "Bexar           44\n",
       "Tarrant         40\n",
       "Nueces          16\n",
       "Jefferson       15\n",
       "Montgomery      15\n",
       "Lubbock         12\n",
       "Smith           12\n",
       "Brazos          12\n",
       "Potter          10\n",
       "Travis           8\n",
       "Collin           7\n",
       "McLennan         7\n",
       "Galveston        6\n",
       "Cameron          6\n",
       "Hidalgo          6\n",
       "Denton           6\n",
       "Navarro          6\n",
       "Taylor           5\n",
       "Gregg            5\n",
       "Fort Bend        5\n",
       "Bowie            5\n",
       "Anderson         4\n",
       "Hunt             4\n",
       "Brazoria         4\n",
       "Randall          3\n",
       "Bell             3\n",
       "Williamson       3\n",
       "Grayson          3\n",
       "              ... \n",
       "Harrison         1\n",
       "Trinity          1\n",
       "Bastrop          1\n",
       "Sabine           1\n",
       "Crockett         1\n",
       "Scurry           1\n",
       "Houston          1\n",
       "Morris           1\n",
       "Aransas          1\n",
       "Kleberg          1\n",
       "Chambers         1\n",
       "Atascosa         1\n",
       "Kaufman          1\n",
       "Caldwell         1\n",
       "Bailey           1\n",
       "Clay             1\n",
       "Madison          1\n",
       "Wood             1\n",
       "Hamilton         1\n",
       "Newton           1\n",
       "Lee              1\n",
       "Dawson           1\n",
       "Kendall          1\n",
       "Upshur           1\n",
       "Shelby           1\n",
       "Jones            1\n",
       "Hardin           1\n",
       "Milam            1\n",
       "Gillespie        1\n",
       "San Jacinto      1\n",
       "Name: County, Length: 92, dtype: int64"
      ]
     },
     "execution_count": 48,
     "metadata": {},
     "output_type": "execute_result"
    }
   ],
   "source": [
    "temp = df_inmates.County.value_counts()\n",
    "temp"
   ]
  },
  {
   "cell_type": "code",
   "execution_count": 29,
   "metadata": {},
   "outputs": [
    {
     "data": {
      "text/html": [
       "<div>\n",
       "<style>\n",
       "    .dataframe thead tr:only-child th {\n",
       "        text-align: right;\n",
       "    }\n",
       "\n",
       "    .dataframe thead th {\n",
       "        text-align: left;\n",
       "    }\n",
       "\n",
       "    .dataframe tbody tr th {\n",
       "        vertical-align: top;\n",
       "    }\n",
       "</style>\n",
       "<table border=\"1\" class=\"dataframe\">\n",
       "  <thead>\n",
       "    <tr style=\"text-align: right;\">\n",
       "      <th></th>\n",
       "      <th>Poverty Rate</th>\n",
       "      <th>Inmates</th>\n",
       "    </tr>\n",
       "    <tr>\n",
       "      <th>County</th>\n",
       "      <th></th>\n",
       "      <th></th>\n",
       "    </tr>\n",
       "  </thead>\n",
       "  <tbody>\n",
       "    <tr>\n",
       "      <th>Hidalgo</th>\n",
       "      <td>45.4</td>\n",
       "      <td>6</td>\n",
       "    </tr>\n",
       "    <tr>\n",
       "      <th>Bee</th>\n",
       "      <td>26.6</td>\n",
       "      <td>2</td>\n",
       "    </tr>\n",
       "    <tr>\n",
       "      <th>Bexar</th>\n",
       "      <td>21.6</td>\n",
       "      <td>44</td>\n",
       "    </tr>\n",
       "    <tr>\n",
       "      <th>Tarrant</th>\n",
       "      <td>12.3</td>\n",
       "      <td>40</td>\n",
       "    </tr>\n",
       "    <tr>\n",
       "      <th>Bexar</th>\n",
       "      <td>19.4</td>\n",
       "      <td>44</td>\n",
       "    </tr>\n",
       "    <tr>\n",
       "      <th>Dallas</th>\n",
       "      <td>13.8</td>\n",
       "      <td>56</td>\n",
       "    </tr>\n",
       "    <tr>\n",
       "      <th>Tarrant</th>\n",
       "      <td>10.0</td>\n",
       "      <td>40</td>\n",
       "    </tr>\n",
       "    <tr>\n",
       "      <th>Houston</th>\n",
       "      <td>27.2</td>\n",
       "      <td>1</td>\n",
       "    </tr>\n",
       "    <tr>\n",
       "      <th>Hidalgo</th>\n",
       "      <td>45.4</td>\n",
       "      <td>6</td>\n",
       "    </tr>\n",
       "    <tr>\n",
       "      <th>Hunt</th>\n",
       "      <td>16.6</td>\n",
       "      <td>4</td>\n",
       "    </tr>\n",
       "    <tr>\n",
       "      <th>Harris</th>\n",
       "      <td>15.6</td>\n",
       "      <td>126</td>\n",
       "    </tr>\n",
       "    <tr>\n",
       "      <th>Collin</th>\n",
       "      <td>5.3</td>\n",
       "      <td>7</td>\n",
       "    </tr>\n",
       "    <tr>\n",
       "      <th>Wharton</th>\n",
       "      <td>18.9</td>\n",
       "      <td>1</td>\n",
       "    </tr>\n",
       "    <tr>\n",
       "      <th>Harris</th>\n",
       "      <td>15.6</td>\n",
       "      <td>126</td>\n",
       "    </tr>\n",
       "    <tr>\n",
       "      <th>Madison</th>\n",
       "      <td>28.3</td>\n",
       "      <td>1</td>\n",
       "    </tr>\n",
       "    <tr>\n",
       "      <th>Dallas</th>\n",
       "      <td>13.8</td>\n",
       "      <td>56</td>\n",
       "    </tr>\n",
       "    <tr>\n",
       "      <th>Harris</th>\n",
       "      <td>15.6</td>\n",
       "      <td>126</td>\n",
       "    </tr>\n",
       "    <tr>\n",
       "      <th>Nueces</th>\n",
       "      <td>21.1</td>\n",
       "      <td>16</td>\n",
       "    </tr>\n",
       "    <tr>\n",
       "      <th>Smith</th>\n",
       "      <td>15.5</td>\n",
       "      <td>12</td>\n",
       "    </tr>\n",
       "    <tr>\n",
       "      <th>Grayson</th>\n",
       "      <td>14.6</td>\n",
       "      <td>3</td>\n",
       "    </tr>\n",
       "    <tr>\n",
       "      <th>Harris</th>\n",
       "      <td>15.6</td>\n",
       "      <td>126</td>\n",
       "    </tr>\n",
       "    <tr>\n",
       "      <th>Bexar</th>\n",
       "      <td>21.6</td>\n",
       "      <td>44</td>\n",
       "    </tr>\n",
       "    <tr>\n",
       "      <th>Ellis</th>\n",
       "      <td>11.8</td>\n",
       "      <td>2</td>\n",
       "    </tr>\n",
       "    <tr>\n",
       "      <th>Bexar</th>\n",
       "      <td>21.6</td>\n",
       "      <td>44</td>\n",
       "    </tr>\n",
       "    <tr>\n",
       "      <th>Dallas</th>\n",
       "      <td>13.8</td>\n",
       "      <td>56</td>\n",
       "    </tr>\n",
       "    <tr>\n",
       "      <th>Smith</th>\n",
       "      <td>15.5</td>\n",
       "      <td>12</td>\n",
       "    </tr>\n",
       "    <tr>\n",
       "      <th>Bexar</th>\n",
       "      <td>19.4</td>\n",
       "      <td>44</td>\n",
       "    </tr>\n",
       "    <tr>\n",
       "      <th>Bexar</th>\n",
       "      <td>21.6</td>\n",
       "      <td>44</td>\n",
       "    </tr>\n",
       "    <tr>\n",
       "      <th>Tarrant</th>\n",
       "      <td>10.0</td>\n",
       "      <td>40</td>\n",
       "    </tr>\n",
       "    <tr>\n",
       "      <th>Harris</th>\n",
       "      <td>19.1</td>\n",
       "      <td>126</td>\n",
       "    </tr>\n",
       "    <tr>\n",
       "      <th>...</th>\n",
       "      <td>...</td>\n",
       "      <td>...</td>\n",
       "    </tr>\n",
       "    <tr>\n",
       "      <th>Harris</th>\n",
       "      <td>19.1</td>\n",
       "      <td>126</td>\n",
       "    </tr>\n",
       "    <tr>\n",
       "      <th>Harris</th>\n",
       "      <td>19.1</td>\n",
       "      <td>126</td>\n",
       "    </tr>\n",
       "    <tr>\n",
       "      <th>Nueces</th>\n",
       "      <td>22.8</td>\n",
       "      <td>16</td>\n",
       "    </tr>\n",
       "    <tr>\n",
       "      <th>Hardin</th>\n",
       "      <td>13.7</td>\n",
       "      <td>1</td>\n",
       "    </tr>\n",
       "    <tr>\n",
       "      <th>Montgomery</th>\n",
       "      <td>11.5</td>\n",
       "      <td>15</td>\n",
       "    </tr>\n",
       "    <tr>\n",
       "      <th>Bexar</th>\n",
       "      <td>19.4</td>\n",
       "      <td>44</td>\n",
       "    </tr>\n",
       "    <tr>\n",
       "      <th>Jefferson</th>\n",
       "      <td>20.0</td>\n",
       "      <td>15</td>\n",
       "    </tr>\n",
       "    <tr>\n",
       "      <th>Harris</th>\n",
       "      <td>19.1</td>\n",
       "      <td>126</td>\n",
       "    </tr>\n",
       "    <tr>\n",
       "      <th>Fort Bend</th>\n",
       "      <td>9.4</td>\n",
       "      <td>5</td>\n",
       "    </tr>\n",
       "    <tr>\n",
       "      <th>El Paso</th>\n",
       "      <td>31.5</td>\n",
       "      <td>3</td>\n",
       "    </tr>\n",
       "    <tr>\n",
       "      <th>Nueces</th>\n",
       "      <td>22.8</td>\n",
       "      <td>16</td>\n",
       "    </tr>\n",
       "    <tr>\n",
       "      <th>Dallas</th>\n",
       "      <td>14.5</td>\n",
       "      <td>56</td>\n",
       "    </tr>\n",
       "    <tr>\n",
       "      <th>Galveston</th>\n",
       "      <td>15.0</td>\n",
       "      <td>6</td>\n",
       "    </tr>\n",
       "    <tr>\n",
       "      <th>Dallas</th>\n",
       "      <td>14.5</td>\n",
       "      <td>56</td>\n",
       "    </tr>\n",
       "    <tr>\n",
       "      <th>Tom Green</th>\n",
       "      <td>17.1</td>\n",
       "      <td>3</td>\n",
       "    </tr>\n",
       "    <tr>\n",
       "      <th>Harris</th>\n",
       "      <td>19.1</td>\n",
       "      <td>126</td>\n",
       "    </tr>\n",
       "    <tr>\n",
       "      <th>Harris</th>\n",
       "      <td>19.1</td>\n",
       "      <td>126</td>\n",
       "    </tr>\n",
       "    <tr>\n",
       "      <th>Nueces</th>\n",
       "      <td>22.8</td>\n",
       "      <td>16</td>\n",
       "    </tr>\n",
       "    <tr>\n",
       "      <th>Harris</th>\n",
       "      <td>19.1</td>\n",
       "      <td>126</td>\n",
       "    </tr>\n",
       "    <tr>\n",
       "      <th>Harris</th>\n",
       "      <td>19.1</td>\n",
       "      <td>126</td>\n",
       "    </tr>\n",
       "    <tr>\n",
       "      <th>Potter</th>\n",
       "      <td>21.6</td>\n",
       "      <td>10</td>\n",
       "    </tr>\n",
       "    <tr>\n",
       "      <th>Tarrant</th>\n",
       "      <td>12.3</td>\n",
       "      <td>40</td>\n",
       "    </tr>\n",
       "    <tr>\n",
       "      <th>Tarrant</th>\n",
       "      <td>12.3</td>\n",
       "      <td>40</td>\n",
       "    </tr>\n",
       "    <tr>\n",
       "      <th>Bexar</th>\n",
       "      <td>19.4</td>\n",
       "      <td>44</td>\n",
       "    </tr>\n",
       "    <tr>\n",
       "      <th>Jefferson</th>\n",
       "      <td>20.0</td>\n",
       "      <td>15</td>\n",
       "    </tr>\n",
       "    <tr>\n",
       "      <th>Lubbock</th>\n",
       "      <td>19.7</td>\n",
       "      <td>12</td>\n",
       "    </tr>\n",
       "    <tr>\n",
       "      <th>Bell</th>\n",
       "      <td>14.6</td>\n",
       "      <td>3</td>\n",
       "    </tr>\n",
       "    <tr>\n",
       "      <th>Harris</th>\n",
       "      <td>19.1</td>\n",
       "      <td>126</td>\n",
       "    </tr>\n",
       "    <tr>\n",
       "      <th>Jefferson</th>\n",
       "      <td>18.4</td>\n",
       "      <td>15</td>\n",
       "    </tr>\n",
       "    <tr>\n",
       "      <th>Tarrant</th>\n",
       "      <td>10.0</td>\n",
       "      <td>40</td>\n",
       "    </tr>\n",
       "  </tbody>\n",
       "</table>\n",
       "<p>545 rows × 2 columns</p>\n",
       "</div>"
      ],
      "text/plain": [
       "            Poverty Rate  Inmates\n",
       "County                           \n",
       "Hidalgo             45.4        6\n",
       "Bee                 26.6        2\n",
       "Bexar               21.6       44\n",
       "Tarrant             12.3       40\n",
       "Bexar               19.4       44\n",
       "Dallas              13.8       56\n",
       "Tarrant             10.0       40\n",
       "Houston             27.2        1\n",
       "Hidalgo             45.4        6\n",
       "Hunt                16.6        4\n",
       "Harris              15.6      126\n",
       "Collin               5.3        7\n",
       "Wharton             18.9        1\n",
       "Harris              15.6      126\n",
       "Madison             28.3        1\n",
       "Dallas              13.8       56\n",
       "Harris              15.6      126\n",
       "Nueces              21.1       16\n",
       "Smith               15.5       12\n",
       "Grayson             14.6        3\n",
       "Harris              15.6      126\n",
       "Bexar               21.6       44\n",
       "Ellis               11.8        2\n",
       "Bexar               21.6       44\n",
       "Dallas              13.8       56\n",
       "Smith               15.5       12\n",
       "Bexar               19.4       44\n",
       "Bexar               21.6       44\n",
       "Tarrant             10.0       40\n",
       "Harris              19.1      126\n",
       "...                  ...      ...\n",
       "Harris              19.1      126\n",
       "Harris              19.1      126\n",
       "Nueces              22.8       16\n",
       "Hardin              13.7        1\n",
       "Montgomery          11.5       15\n",
       "Bexar               19.4       44\n",
       "Jefferson           20.0       15\n",
       "Harris              19.1      126\n",
       "Fort Bend            9.4        5\n",
       "El Paso             31.5        3\n",
       "Nueces              22.8       16\n",
       "Dallas              14.5       56\n",
       "Galveston           15.0        6\n",
       "Dallas              14.5       56\n",
       "Tom Green           17.1        3\n",
       "Harris              19.1      126\n",
       "Harris              19.1      126\n",
       "Nueces              22.8       16\n",
       "Harris              19.1      126\n",
       "Harris              19.1      126\n",
       "Potter              21.6       10\n",
       "Tarrant             12.3       40\n",
       "Tarrant             12.3       40\n",
       "Bexar               19.4       44\n",
       "Jefferson           20.0       15\n",
       "Lubbock             19.7       12\n",
       "Bell                14.6        3\n",
       "Harris              19.1      126\n",
       "Jefferson           18.4       15\n",
       "Tarrant             10.0       40\n",
       "\n",
       "[545 rows x 2 columns]"
      ]
     },
     "execution_count": 29,
     "metadata": {},
     "output_type": "execute_result"
    }
   ],
   "source": [
    "pd.options.mode.chained_assignment = None\n",
    "counties = df_inmates[['County', 'Poverty Rate']]\n",
    "\n",
    "\n",
    "\n",
    "counties['Inmates'] = df_inmates.groupby('County')['County'].transform(lambda s: s.count())\n",
    "counties.fillna(0)\n",
    "counties = counties.set_index(\"County\")\n",
    "counties"
   ]
  },
  {
   "cell_type": "code",
   "execution_count": 30,
   "metadata": {},
   "outputs": [
    {
     "data": {
      "text/plain": [
       "<matplotlib.axes._subplots.AxesSubplot at 0x1a1c4a1588>"
      ]
     },
     "execution_count": 30,
     "metadata": {},
     "output_type": "execute_result"
    },
    {
     "data": {
      "image/png": "[encoded data removed]",
      "text/plain": [
       "<matplotlib.figure.Figure at 0x1a1c459ba8>"
      ]
     },
     "metadata": {},
     "output_type": "display_data"
    }
   ],
   "source": [
    "sns.regplot(x=\"Poverty Rate\", y=\"Inmates\", data=counties)"
   ]
  },
  {
   "cell_type": "code",
   "execution_count": 32,
   "metadata": {},
   "outputs": [
    {
     "data": {
      "text/plain": [
       "array([[ 1.        ,  0.00732972],\n",
       "       [ 0.00732972,  1.        ]])"
      ]
     },
     "execution_count": 32,
     "metadata": {},
     "output_type": "execute_result"
    }
   ],
   "source": [
    "np.corrcoef(x=counties[\"Poverty Rate\"], y=counties[\"Inmates\"])"
   ]
  },
  {
   "cell_type": "code",
   "execution_count": 44,
   "metadata": {
    "collapsed": true
   },
   "outputs": [],
   "source": [
    "counties_3 = counties[counties.Inmates > 2]"
   ]
  },
  {
   "cell_type": "code",
   "execution_count": 45,
   "metadata": {},
   "outputs": [
    {
     "data": {
      "text/plain": [
       "array([[ 1.        ,  0.04892873],\n",
       "       [ 0.04892873,  1.        ]])"
      ]
     },
     "execution_count": 45,
     "metadata": {},
     "output_type": "execute_result"
    }
   ],
   "source": [
    "np.corrcoef(x=counties_3[\"Poverty Rate\"], y=counties_3[\"Inmates\"])"
   ]
  },
  {
   "cell_type": "code",
   "execution_count": 49,
   "metadata": {},
   "outputs": [
    {
     "data": {
      "text/plain": [
       "array([[ 1.        ,  0.48966874],\n",
       "       [ 0.48966874,  1.        ]])"
      ]
     },
     "execution_count": 49,
     "metadata": {},
     "output_type": "execute_result"
    }
   ],
   "source": [
    "counties_25 = counties[counties.Inmates > 9]\n",
    "np.corrcoef(x=counties_10[\"Poverty Rate\"], y=counties_10[\"Inmates\"])\n"
   ]
  },
  {
   "cell_type": "code",
   "execution_count": 55,
   "metadata": {},
   "outputs": [
    {
     "data": {
      "text/plain": [
       "<matplotlib.axes._subplots.AxesSubplot at 0x1a1c781908>"
      ]
     },
     "execution_count": 55,
     "metadata": {},
     "output_type": "execute_result"
    },
    {
     "data": {
      "image/png": "[encoded data removed]",
      "text/plain": [
       "<matplotlib.figure.Figure at 0x1a1cd443c8>"
      ]
     },
     "metadata": {},
     "output_type": "display_data"
    }
   ],
   "source": [
    "sns.regplot(x=\"Poverty Rate\", y=\"Inmates\", data=counties_10)"
   ]
  },
  {
   "cell_type": "code",
   "execution_count": 53,
   "metadata": {
    "collapsed": true
   },
   "outputs": [],
   "source": [
    "x = counties_10['Poverty Rate']\n",
    "y = counties_10['Inmates']\n",
    "slope, intercept, r_value, p_value, std_err = stats.linregress(x,y)"
   ]
  },
  {
   "cell_type": "code",
   "execution_count": 54,
   "metadata": {},
   "outputs": [
    {
     "name": "stdout",
     "output_type": "stream",
     "text": [
      "2.1365622722 29.6298051643 0.158381810314 0.00265375859605 0.70594143739\n"
     ]
    }
   ],
   "source": [
    "print (slope, intercept, r_value, p_value, std_err)"
   ]
  },
  {
   "cell_type": "code",
   "execution_count": null,
   "metadata": {
    "collapsed": true
   },
   "outputs": [],
   "source": []
  }
 ],
 "metadata": {
  "kernelspec": {
   "display_name": "Python 3",
   "language": "python",
   "name": "python3"
  },
  "language_info": {
   "codemirror_mode": {
    "name": "ipython",
    "version": 3
   },
   "file_extension": ".py",
   "mimetype": "text/x-python",
   "name": "python",
   "nbconvert_exporter": "python",
   "pygments_lexer": "ipython3",
   "version": "3.6.1"
  }
 },
 "nbformat": 4,
 "nbformat_minor": 2
}
