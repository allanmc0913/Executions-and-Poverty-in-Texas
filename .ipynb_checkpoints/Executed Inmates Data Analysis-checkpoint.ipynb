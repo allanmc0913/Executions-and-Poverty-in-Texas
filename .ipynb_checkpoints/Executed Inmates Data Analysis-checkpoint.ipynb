{
 "cells": [
  {
   "cell_type": "markdown",
   "metadata": {},
   "source": [
    "SI 365\n",
    "------\n",
    "Final Project\n",
    "\n",
    "Team Iguana\n",
    "-----------\n",
    "Allan Chen - Jess Brown - Zoe Halbeisen\n",
    "\n",
    "Exploring Serious Crime and Poverty in Texas\n",
    "----------------------------------------------"
   ]
  },
  {
   "cell_type": "code",
   "execution_count": 1,
   "metadata": {
    "collapsed": true
   },
   "outputs": [],
   "source": [
    "# import necessary libraries\n",
    "\n",
    "%matplotlib inline\n",
    "import pandas as pd\n",
    "import numpy as np\n",
    "import seaborn as sns\n",
    "from scipy import stats\n",
    "\n",
    "sns.set(style='dark', color_codes=True, font_scale=1.3)\n",
    "\n",
    "from IPython.core.display import HTML\n",
    "css = open('style-table.css').read() + open('style-notebook.css').read()\n",
    "HTML('<style>{}</style>'.format(css))\n",
    "\n",
    "import bokeh.sampledata\n",
    "from bokeh.io import show\n",
    "from bokeh.models import (\n",
    "    ColumnDataSource,\n",
    "    HoverTool,\n",
    "    LogColorMapper\n",
    ")\n",
    "from bokeh.palettes import Inferno256 as palette\n",
    "from bokeh.plotting import figure\n",
    "\n",
    "from bokeh.sampledata.us_counties import data as tx_counties"
   ]
  },
  {
   "cell_type": "code",
   "execution_count": 2,
   "metadata": {},
   "outputs": [
    {
     "data": {
      "text/html": [
       "<div>\n",
       "<style scoped>\n",
       "    .dataframe tbody tr th:only-of-type {\n",
       "        vertical-align: middle;\n",
       "    }\n",
       "\n",
       "    .dataframe tbody tr th {\n",
       "        vertical-align: top;\n",
       "    }\n",
       "\n",
       "    .dataframe thead th {\n",
       "        text-align: right;\n",
       "    }\n",
       "</style>\n",
       "<table border=\"1\" class=\"dataframe\">\n",
       "  <thead>\n",
       "    <tr style=\"text-align: right;\">\n",
       "      <th></th>\n",
       "      <th>TDCJ Number</th>\n",
       "      <th>First Name</th>\n",
       "      <th>Last Name</th>\n",
       "      <th>Date Received</th>\n",
       "      <th>Age Received</th>\n",
       "      <th>Date of Offense</th>\n",
       "      <th>Age at Offense</th>\n",
       "      <th>Execution Date</th>\n",
       "      <th>Execution Age</th>\n",
       "      <th>Gender</th>\n",
       "      <th>...</th>\n",
       "      <th>Eye Color</th>\n",
       "      <th>Hair Color</th>\n",
       "      <th>Native State</th>\n",
       "      <th>Last Statement</th>\n",
       "      <th>Sentiment</th>\n",
       "      <th>More Info URL</th>\n",
       "      <th>Last Statement URL</th>\n",
       "      <th>Poverty Rate</th>\n",
       "      <th>YOB</th>\n",
       "      <th>ex year</th>\n",
       "    </tr>\n",
       "    <tr>\n",
       "      <th>Execution No.</th>\n",
       "      <th></th>\n",
       "      <th></th>\n",
       "      <th></th>\n",
       "      <th></th>\n",
       "      <th></th>\n",
       "      <th></th>\n",
       "      <th></th>\n",
       "      <th></th>\n",
       "      <th></th>\n",
       "      <th></th>\n",
       "      <th></th>\n",
       "      <th></th>\n",
       "      <th></th>\n",
       "      <th></th>\n",
       "      <th></th>\n",
       "      <th></th>\n",
       "      <th></th>\n",
       "      <th></th>\n",
       "      <th></th>\n",
       "      <th></th>\n",
       "      <th></th>\n",
       "    </tr>\n",
       "  </thead>\n",
       "  <tbody>\n",
       "    <tr>\n",
       "      <th>545</th>\n",
       "      <td>999275</td>\n",
       "      <td>Ruben</td>\n",
       "      <td>Cardenas</td>\n",
       "      <td>7/29/1998</td>\n",
       "      <td>28.0</td>\n",
       "      <td>2/22/1997</td>\n",
       "      <td>26.0</td>\n",
       "      <td>11/9/2017</td>\n",
       "      <td>47</td>\n",
       "      <td>Male</td>\n",
       "      <td>...</td>\n",
       "      <td>Brown</td>\n",
       "      <td>Black</td>\n",
       "      <td>Mexico</td>\n",
       "      <td>This is my statement:ÌâåÊ My final words.ÌâåÊ ...</td>\n",
       "      <td>-1</td>\n",
       "      <td>https://www.tdcj.state.tx.us/death_row/dr_info...</td>\n",
       "      <td>https://www.tdcj.state.tx.us/death_row/dr_info...</td>\n",
       "      <td>45.4</td>\n",
       "      <td>1970</td>\n",
       "      <td>11/9/2017</td>\n",
       "    </tr>\n",
       "    <tr>\n",
       "      <th>544</th>\n",
       "      <td>999411</td>\n",
       "      <td>Robert</td>\n",
       "      <td>Pruett</td>\n",
       "      <td>4/30/2002</td>\n",
       "      <td>22.0</td>\n",
       "      <td>12/17/1999</td>\n",
       "      <td>20.0</td>\n",
       "      <td>10/12/2017</td>\n",
       "      <td>38</td>\n",
       "      <td>Male</td>\n",
       "      <td>...</td>\n",
       "      <td>Brown</td>\n",
       "      <td>Blonde</td>\n",
       "      <td>Texas</td>\n",
       "      <td>I just want to let everyone in here to know I ...</td>\n",
       "      <td>-1</td>\n",
       "      <td>https://www.tdcj.state.tx.us/death_row/dr_info...</td>\n",
       "      <td>https://www.tdcj.state.tx.us/death_row/dr_info...</td>\n",
       "      <td>26.6</td>\n",
       "      <td>1979</td>\n",
       "      <td>10/12/2017</td>\n",
       "    </tr>\n",
       "    <tr>\n",
       "      <th>543</th>\n",
       "      <td>999494</td>\n",
       "      <td>Taichin</td>\n",
       "      <td>Preyor</td>\n",
       "      <td>3/30/2005</td>\n",
       "      <td>34.0</td>\n",
       "      <td>2/26/2004</td>\n",
       "      <td>33.0</td>\n",
       "      <td>7/27/2017</td>\n",
       "      <td>46</td>\n",
       "      <td>Male</td>\n",
       "      <td>...</td>\n",
       "      <td>Brown</td>\n",
       "      <td>Black</td>\n",
       "      <td>Texas</td>\n",
       "      <td>First and foremost I'd like to say, \"Justice h...</td>\n",
       "      <td>1</td>\n",
       "      <td>https://www.tdcj.state.tx.us/death_row/dr_info...</td>\n",
       "      <td>https://www.tdcj.state.tx.us/death_row/dr_info...</td>\n",
       "      <td>21.6</td>\n",
       "      <td>1971</td>\n",
       "      <td>7/27/2017</td>\n",
       "    </tr>\n",
       "    <tr>\n",
       "      <th>542</th>\n",
       "      <td>997</td>\n",
       "      <td>James</td>\n",
       "      <td>Bigby</td>\n",
       "      <td>NaN</td>\n",
       "      <td>NaN</td>\n",
       "      <td>NaN</td>\n",
       "      <td>NaN</td>\n",
       "      <td>3/14/2017</td>\n",
       "      <td>61</td>\n",
       "      <td>NaN</td>\n",
       "      <td>...</td>\n",
       "      <td>NaN</td>\n",
       "      <td>NaN</td>\n",
       "      <td>NaN</td>\n",
       "      <td>Yes, I do, Grace Kehler is that you? I have gi...</td>\n",
       "      <td>-1</td>\n",
       "      <td>https://www.tdcj.state.tx.us/death_row/dr_info...</td>\n",
       "      <td>https://www.tdcj.state.tx.us/death_row/dr_info...</td>\n",
       "      <td>12.3</td>\n",
       "      <td>1956</td>\n",
       "      <td>3/14/2017</td>\n",
       "    </tr>\n",
       "    <tr>\n",
       "      <th>541</th>\n",
       "      <td>999145</td>\n",
       "      <td>Rolando</td>\n",
       "      <td>Ruiz</td>\n",
       "      <td>NaN</td>\n",
       "      <td>NaN</td>\n",
       "      <td>NaN</td>\n",
       "      <td>NaN</td>\n",
       "      <td>3/7/2017</td>\n",
       "      <td>44</td>\n",
       "      <td>NaN</td>\n",
       "      <td>...</td>\n",
       "      <td>NaN</td>\n",
       "      <td>NaN</td>\n",
       "      <td>NaN</td>\n",
       "      <td>Yes sir, I would first like to say to the Sanc...</td>\n",
       "      <td>1</td>\n",
       "      <td>https://www.tdcj.state.tx.us/death_row/dr_info...</td>\n",
       "      <td>https://www.tdcj.state.tx.us/death_row/dr_info...</td>\n",
       "      <td>19.4</td>\n",
       "      <td>1973</td>\n",
       "      <td>3/7/2017</td>\n",
       "    </tr>\n",
       "  </tbody>\n",
       "</table>\n",
       "<p>5 rows × 25 columns</p>\n",
       "</div>"
      ],
      "text/plain": [
       "               TDCJ Number First Name Last Name Date Received  Age Received  \\\n",
       "Execution No.                                                                 \n",
       "545                 999275      Ruben  Cardenas     7/29/1998          28.0   \n",
       "544                 999411     Robert    Pruett     4/30/2002          22.0   \n",
       "543                 999494    Taichin    Preyor     3/30/2005          34.0   \n",
       "542                    997      James     Bigby           NaN           NaN   \n",
       "541                 999145    Rolando      Ruiz           NaN           NaN   \n",
       "\n",
       "              Date of Offense  Age at Offense Execution Date  Execution Age  \\\n",
       "Execution No.                                                                 \n",
       "545                 2/22/1997            26.0      11/9/2017             47   \n",
       "544                12/17/1999            20.0     10/12/2017             38   \n",
       "543                 2/26/2004            33.0      7/27/2017             46   \n",
       "542                       NaN             NaN      3/14/2017             61   \n",
       "541                       NaN             NaN       3/7/2017             44   \n",
       "\n",
       "              Gender     ...     Eye Color Hair Color Native State  \\\n",
       "Execution No.            ...                                         \n",
       "545             Male     ...         Brown      Black       Mexico   \n",
       "544             Male     ...         Brown     Blonde        Texas   \n",
       "543             Male     ...         Brown      Black        Texas   \n",
       "542              NaN     ...           NaN        NaN          NaN   \n",
       "541              NaN     ...           NaN        NaN          NaN   \n",
       "\n",
       "                                                  Last Statement  Sentiment  \\\n",
       "Execution No.                                                                 \n",
       "545            This is my statement:ÌâåÊ My final words.ÌâåÊ ...         -1   \n",
       "544            I just want to let everyone in here to know I ...         -1   \n",
       "543            First and foremost I'd like to say, \"Justice h...          1   \n",
       "542            Yes, I do, Grace Kehler is that you? I have gi...         -1   \n",
       "541            Yes sir, I would first like to say to the Sanc...          1   \n",
       "\n",
       "                                                   More Info URL  \\\n",
       "Execution No.                                                      \n",
       "545            https://www.tdcj.state.tx.us/death_row/dr_info...   \n",
       "544            https://www.tdcj.state.tx.us/death_row/dr_info...   \n",
       "543            https://www.tdcj.state.tx.us/death_row/dr_info...   \n",
       "542            https://www.tdcj.state.tx.us/death_row/dr_info...   \n",
       "541            https://www.tdcj.state.tx.us/death_row/dr_info...   \n",
       "\n",
       "                                              Last Statement URL Poverty Rate  \\\n",
       "Execution No.                                                                   \n",
       "545            https://www.tdcj.state.tx.us/death_row/dr_info...         45.4   \n",
       "544            https://www.tdcj.state.tx.us/death_row/dr_info...         26.6   \n",
       "543            https://www.tdcj.state.tx.us/death_row/dr_info...         21.6   \n",
       "542            https://www.tdcj.state.tx.us/death_row/dr_info...         12.3   \n",
       "541            https://www.tdcj.state.tx.us/death_row/dr_info...         19.4   \n",
       "\n",
       "                YOB     ex year  \n",
       "Execution No.                    \n",
       "545            1970   11/9/2017  \n",
       "544            1979  10/12/2017  \n",
       "543            1971   7/27/2017  \n",
       "542            1956   3/14/2017  \n",
       "541            1973    3/7/2017  \n",
       "\n",
       "[5 rows x 25 columns]"
      ]
     },
     "execution_count": 2,
     "metadata": {},
     "output_type": "execute_result"
    }
   ],
   "source": [
    "df_inmates = pd.read_csv('exinmates.csv', encoding=\"latin-1\")\n",
    "df_inmates = df_inmates.set_index(\"Execution No.\")\n",
    "df_inmates.head()"
   ]
  },
  {
   "cell_type": "code",
   "execution_count": 3,
   "metadata": {},
   "outputs": [],
   "source": [
    "# read in data from files\n",
    "pov_rates = pd.read_csv('pov_rates.csv')\n",
    "county_codes = pd.read_csv('county_codes.csv')"
   ]
  },
  {
   "cell_type": "code",
   "execution_count": 4,
   "metadata": {},
   "outputs": [
    {
     "data": {
      "text/html": [
       "<div>\n",
       "<style scoped>\n",
       "    .dataframe tbody tr th:only-of-type {\n",
       "        vertical-align: middle;\n",
       "    }\n",
       "\n",
       "    .dataframe tbody tr th {\n",
       "        vertical-align: top;\n",
       "    }\n",
       "\n",
       "    .dataframe thead th {\n",
       "        text-align: right;\n",
       "    }\n",
       "</style>\n",
       "<table border=\"1\" class=\"dataframe\">\n",
       "  <thead>\n",
       "    <tr style=\"text-align: right;\">\n",
       "      <th></th>\n",
       "      <th>County</th>\n",
       "      <th>FIPS #</th>\n",
       "    </tr>\n",
       "  </thead>\n",
       "  <tbody>\n",
       "    <tr>\n",
       "      <th>0</th>\n",
       "      <td>Anderson</td>\n",
       "      <td>1</td>\n",
       "    </tr>\n",
       "    <tr>\n",
       "      <th>1</th>\n",
       "      <td>Andrews</td>\n",
       "      <td>3</td>\n",
       "    </tr>\n",
       "    <tr>\n",
       "      <th>2</th>\n",
       "      <td>Angelina</td>\n",
       "      <td>5</td>\n",
       "    </tr>\n",
       "    <tr>\n",
       "      <th>3</th>\n",
       "      <td>Aransas</td>\n",
       "      <td>7</td>\n",
       "    </tr>\n",
       "    <tr>\n",
       "      <th>4</th>\n",
       "      <td>Archer</td>\n",
       "      <td>9</td>\n",
       "    </tr>\n",
       "  </tbody>\n",
       "</table>\n",
       "</div>"
      ],
      "text/plain": [
       "     County  FIPS #\n",
       "0  Anderson       1\n",
       "1   Andrews       3\n",
       "2  Angelina       5\n",
       "3   Aransas       7\n",
       "4    Archer       9"
      ]
     },
     "execution_count": 4,
     "metadata": {},
     "output_type": "execute_result"
    }
   ],
   "source": [
    "county_codes.head()"
   ]
  },
  {
   "cell_type": "code",
   "execution_count": 5,
   "metadata": {},
   "outputs": [
    {
     "data": {
      "text/html": [
       "<div>\n",
       "<style scoped>\n",
       "    .dataframe tbody tr th:only-of-type {\n",
       "        vertical-align: middle;\n",
       "    }\n",
       "\n",
       "    .dataframe tbody tr th {\n",
       "        vertical-align: top;\n",
       "    }\n",
       "\n",
       "    .dataframe thead th {\n",
       "        text-align: right;\n",
       "    }\n",
       "</style>\n",
       "<table border=\"1\" class=\"dataframe\">\n",
       "  <thead>\n",
       "    <tr style=\"text-align: right;\">\n",
       "      <th></th>\n",
       "      <th>FIPS #</th>\n",
       "      <th>Year</th>\n",
       "      <th>Rate</th>\n",
       "    </tr>\n",
       "  </thead>\n",
       "  <tbody>\n",
       "    <tr>\n",
       "      <th>0</th>\n",
       "      <td>1</td>\n",
       "      <td>1989</td>\n",
       "      <td>20.5</td>\n",
       "    </tr>\n",
       "    <tr>\n",
       "      <th>1</th>\n",
       "      <td>1</td>\n",
       "      <td>1993</td>\n",
       "      <td>20.8</td>\n",
       "    </tr>\n",
       "    <tr>\n",
       "      <th>2</th>\n",
       "      <td>1</td>\n",
       "      <td>1995</td>\n",
       "      <td>20.1</td>\n",
       "    </tr>\n",
       "    <tr>\n",
       "      <th>3</th>\n",
       "      <td>1</td>\n",
       "      <td>1996</td>\n",
       "      <td>NaN</td>\n",
       "    </tr>\n",
       "    <tr>\n",
       "      <th>4</th>\n",
       "      <td>1</td>\n",
       "      <td>1997</td>\n",
       "      <td>20.4</td>\n",
       "    </tr>\n",
       "  </tbody>\n",
       "</table>\n",
       "</div>"
      ],
      "text/plain": [
       "   FIPS #  Year  Rate\n",
       "0       1  1989  20.5\n",
       "1       1  1993  20.8\n",
       "2       1  1995  20.1\n",
       "3       1  1996   NaN\n",
       "4       1  1997  20.4"
      ]
     },
     "execution_count": 5,
     "metadata": {},
     "output_type": "execute_result"
    }
   ],
   "source": [
    "pov_rates.head()"
   ]
  },
  {
   "cell_type": "code",
   "execution_count": 6,
   "metadata": {},
   "outputs": [
    {
     "data": {
      "text/html": [
       "<div>\n",
       "<style scoped>\n",
       "    .dataframe tbody tr th:only-of-type {\n",
       "        vertical-align: middle;\n",
       "    }\n",
       "\n",
       "    .dataframe tbody tr th {\n",
       "        vertical-align: top;\n",
       "    }\n",
       "\n",
       "    .dataframe thead th {\n",
       "        text-align: right;\n",
       "    }\n",
       "</style>\n",
       "<table border=\"1\" class=\"dataframe\">\n",
       "  <thead>\n",
       "    <tr style=\"text-align: right;\">\n",
       "      <th></th>\n",
       "      <th>Year</th>\n",
       "      <th>Rate</th>\n",
       "    </tr>\n",
       "    <tr>\n",
       "      <th>County</th>\n",
       "      <th></th>\n",
       "      <th></th>\n",
       "    </tr>\n",
       "  </thead>\n",
       "  <tbody>\n",
       "    <tr>\n",
       "      <th>Anderson</th>\n",
       "      <td>1989</td>\n",
       "      <td>20.5</td>\n",
       "    </tr>\n",
       "    <tr>\n",
       "      <th>Anderson</th>\n",
       "      <td>1993</td>\n",
       "      <td>20.8</td>\n",
       "    </tr>\n",
       "    <tr>\n",
       "      <th>Anderson</th>\n",
       "      <td>1995</td>\n",
       "      <td>20.1</td>\n",
       "    </tr>\n",
       "    <tr>\n",
       "      <th>Anderson</th>\n",
       "      <td>1997</td>\n",
       "      <td>20.4</td>\n",
       "    </tr>\n",
       "    <tr>\n",
       "      <th>Anderson</th>\n",
       "      <td>1998</td>\n",
       "      <td>18.6</td>\n",
       "    </tr>\n",
       "  </tbody>\n",
       "</table>\n",
       "</div>"
      ],
      "text/plain": [
       "          Year  Rate\n",
       "County              \n",
       "Anderson  1989  20.5\n",
       "Anderson  1993  20.8\n",
       "Anderson  1995  20.1\n",
       "Anderson  1997  20.4\n",
       "Anderson  1998  18.6"
      ]
     },
     "execution_count": 6,
     "metadata": {},
     "output_type": "execute_result"
    }
   ],
   "source": [
    "# merge poverty rates with county names\n",
    "pov_by_county = pd.merge(pov_rates, county_codes, on='FIPS #')\n",
    "pov_by_county = pov_by_county.drop(\"FIPS #\", axis=1).set_index(\"County\")\n",
    "\n",
    "# No data for 1996\n",
    "pov_by_county = pov_by_county[pov_by_county.Year != 1996]\n",
    "pov_by_county.head()"
   ]
  },
  {
   "cell_type": "code",
   "execution_count": 7,
   "metadata": {},
   "outputs": [
    {
     "name": "stderr",
     "output_type": "stream",
     "text": [
      "C:\\Users\\Jess\\Anaconda3\\lib\\site-packages\\ipykernel_launcher.py:6: SettingWithCopyWarning: \n",
      "A value is trying to be set on a copy of a slice from a DataFrame\n",
      "\n",
      "See the caveats in the documentation: http://pandas.pydata.org/pandas-docs/stable/indexing.html#indexing-view-versus-copy\n",
      "  \n"
     ]
    },
    {
     "data": {
      "text/html": [
       "<div>\n",
       "<style scoped>\n",
       "    .dataframe tbody tr th:only-of-type {\n",
       "        vertical-align: middle;\n",
       "    }\n",
       "\n",
       "    .dataframe tbody tr th {\n",
       "        vertical-align: top;\n",
       "    }\n",
       "\n",
       "    .dataframe thead th {\n",
       "        text-align: right;\n",
       "    }\n",
       "</style>\n",
       "<table border=\"1\" class=\"dataframe\">\n",
       "  <thead>\n",
       "    <tr style=\"text-align: right;\">\n",
       "      <th></th>\n",
       "      <th>TDCJ Number</th>\n",
       "      <th>First Name</th>\n",
       "      <th>Last Name</th>\n",
       "      <th>Date Received</th>\n",
       "      <th>Age Received</th>\n",
       "      <th>Date of Offense</th>\n",
       "      <th>Age at Offense</th>\n",
       "      <th>Execution Date</th>\n",
       "      <th>Execution Age</th>\n",
       "      <th>Gender</th>\n",
       "      <th>...</th>\n",
       "      <th>Eye Color</th>\n",
       "      <th>Hair Color</th>\n",
       "      <th>Native State</th>\n",
       "      <th>Last Statement</th>\n",
       "      <th>Sentiment</th>\n",
       "      <th>More Info URL</th>\n",
       "      <th>Last Statement URL</th>\n",
       "      <th>Poverty Rate</th>\n",
       "      <th>YOB</th>\n",
       "      <th>ex year</th>\n",
       "    </tr>\n",
       "    <tr>\n",
       "      <th>Execution No.</th>\n",
       "      <th></th>\n",
       "      <th></th>\n",
       "      <th></th>\n",
       "      <th></th>\n",
       "      <th></th>\n",
       "      <th></th>\n",
       "      <th></th>\n",
       "      <th></th>\n",
       "      <th></th>\n",
       "      <th></th>\n",
       "      <th></th>\n",
       "      <th></th>\n",
       "      <th></th>\n",
       "      <th></th>\n",
       "      <th></th>\n",
       "      <th></th>\n",
       "      <th></th>\n",
       "      <th></th>\n",
       "      <th></th>\n",
       "      <th></th>\n",
       "      <th></th>\n",
       "    </tr>\n",
       "  </thead>\n",
       "  <tbody>\n",
       "    <tr>\n",
       "      <th>545</th>\n",
       "      <td>999275</td>\n",
       "      <td>Ruben</td>\n",
       "      <td>Cardenas</td>\n",
       "      <td>7/29/1998</td>\n",
       "      <td>28.0</td>\n",
       "      <td>2/22/1997</td>\n",
       "      <td>26.0</td>\n",
       "      <td>11/9/2017</td>\n",
       "      <td>47</td>\n",
       "      <td>Male</td>\n",
       "      <td>...</td>\n",
       "      <td>Brown</td>\n",
       "      <td>Black</td>\n",
       "      <td>Mexico</td>\n",
       "      <td>This is my statement:ÌâåÊ My final words.ÌâåÊ ...</td>\n",
       "      <td>-1</td>\n",
       "      <td>https://www.tdcj.state.tx.us/death_row/dr_info...</td>\n",
       "      <td>https://www.tdcj.state.tx.us/death_row/dr_info...</td>\n",
       "      <td>45.4</td>\n",
       "      <td>1970</td>\n",
       "      <td>11/9/2017</td>\n",
       "    </tr>\n",
       "    <tr>\n",
       "      <th>544</th>\n",
       "      <td>999411</td>\n",
       "      <td>Robert</td>\n",
       "      <td>Pruett</td>\n",
       "      <td>4/30/2002</td>\n",
       "      <td>22.0</td>\n",
       "      <td>12/17/1999</td>\n",
       "      <td>20.0</td>\n",
       "      <td>10/12/2017</td>\n",
       "      <td>38</td>\n",
       "      <td>Male</td>\n",
       "      <td>...</td>\n",
       "      <td>Brown</td>\n",
       "      <td>Blonde</td>\n",
       "      <td>Texas</td>\n",
       "      <td>I just want to let everyone in here to know I ...</td>\n",
       "      <td>-1</td>\n",
       "      <td>https://www.tdcj.state.tx.us/death_row/dr_info...</td>\n",
       "      <td>https://www.tdcj.state.tx.us/death_row/dr_info...</td>\n",
       "      <td>26.6</td>\n",
       "      <td>1979</td>\n",
       "      <td>10/12/2017</td>\n",
       "    </tr>\n",
       "    <tr>\n",
       "      <th>543</th>\n",
       "      <td>999494</td>\n",
       "      <td>Taichin</td>\n",
       "      <td>Preyor</td>\n",
       "      <td>3/30/2005</td>\n",
       "      <td>34.0</td>\n",
       "      <td>2/26/2004</td>\n",
       "      <td>33.0</td>\n",
       "      <td>7/27/2017</td>\n",
       "      <td>46</td>\n",
       "      <td>Male</td>\n",
       "      <td>...</td>\n",
       "      <td>Brown</td>\n",
       "      <td>Black</td>\n",
       "      <td>Texas</td>\n",
       "      <td>First and foremost I'd like to say, \"Justice h...</td>\n",
       "      <td>1</td>\n",
       "      <td>https://www.tdcj.state.tx.us/death_row/dr_info...</td>\n",
       "      <td>https://www.tdcj.state.tx.us/death_row/dr_info...</td>\n",
       "      <td>21.6</td>\n",
       "      <td>1971</td>\n",
       "      <td>7/27/2017</td>\n",
       "    </tr>\n",
       "    <tr>\n",
       "      <th>542</th>\n",
       "      <td>997</td>\n",
       "      <td>James</td>\n",
       "      <td>Bigby</td>\n",
       "      <td>NaN</td>\n",
       "      <td>NaN</td>\n",
       "      <td>NaN</td>\n",
       "      <td>NaN</td>\n",
       "      <td>3/14/2017</td>\n",
       "      <td>61</td>\n",
       "      <td>NaN</td>\n",
       "      <td>...</td>\n",
       "      <td>NaN</td>\n",
       "      <td>NaN</td>\n",
       "      <td>NaN</td>\n",
       "      <td>Yes, I do, Grace Kehler is that you? I have gi...</td>\n",
       "      <td>-1</td>\n",
       "      <td>https://www.tdcj.state.tx.us/death_row/dr_info...</td>\n",
       "      <td>https://www.tdcj.state.tx.us/death_row/dr_info...</td>\n",
       "      <td>12.3</td>\n",
       "      <td>1956</td>\n",
       "      <td>3/14/2017</td>\n",
       "    </tr>\n",
       "    <tr>\n",
       "      <th>541</th>\n",
       "      <td>999145</td>\n",
       "      <td>Rolando</td>\n",
       "      <td>Ruiz</td>\n",
       "      <td>NaN</td>\n",
       "      <td>NaN</td>\n",
       "      <td>NaN</td>\n",
       "      <td>NaN</td>\n",
       "      <td>3/7/2017</td>\n",
       "      <td>44</td>\n",
       "      <td>NaN</td>\n",
       "      <td>...</td>\n",
       "      <td>NaN</td>\n",
       "      <td>NaN</td>\n",
       "      <td>NaN</td>\n",
       "      <td>Yes sir, I would first like to say to the Sanc...</td>\n",
       "      <td>1</td>\n",
       "      <td>https://www.tdcj.state.tx.us/death_row/dr_info...</td>\n",
       "      <td>https://www.tdcj.state.tx.us/death_row/dr_info...</td>\n",
       "      <td>19.4</td>\n",
       "      <td>1973</td>\n",
       "      <td>3/7/2017</td>\n",
       "    </tr>\n",
       "  </tbody>\n",
       "</table>\n",
       "<p>5 rows × 25 columns</p>\n",
       "</div>"
      ],
      "text/plain": [
       "               TDCJ Number First Name Last Name Date Received  Age Received  \\\n",
       "Execution No.                                                                 \n",
       "545                 999275      Ruben  Cardenas     7/29/1998          28.0   \n",
       "544                 999411     Robert    Pruett     4/30/2002          22.0   \n",
       "543                 999494    Taichin    Preyor     3/30/2005          34.0   \n",
       "542                    997      James     Bigby           NaN           NaN   \n",
       "541                 999145    Rolando      Ruiz           NaN           NaN   \n",
       "\n",
       "              Date of Offense  Age at Offense Execution Date  Execution Age  \\\n",
       "Execution No.                                                                 \n",
       "545                 2/22/1997            26.0      11/9/2017             47   \n",
       "544                12/17/1999            20.0     10/12/2017             38   \n",
       "543                 2/26/2004            33.0      7/27/2017             46   \n",
       "542                       NaN             NaN      3/14/2017             61   \n",
       "541                       NaN             NaN       3/7/2017             44   \n",
       "\n",
       "              Gender     ...     Eye Color Hair Color Native State  \\\n",
       "Execution No.            ...                                         \n",
       "545             Male     ...         Brown      Black       Mexico   \n",
       "544             Male     ...         Brown     Blonde        Texas   \n",
       "543             Male     ...         Brown      Black        Texas   \n",
       "542              NaN     ...           NaN        NaN          NaN   \n",
       "541              NaN     ...           NaN        NaN          NaN   \n",
       "\n",
       "                                                  Last Statement  Sentiment  \\\n",
       "Execution No.                                                                 \n",
       "545            This is my statement:ÌâåÊ My final words.ÌâåÊ ...         -1   \n",
       "544            I just want to let everyone in here to know I ...         -1   \n",
       "543            First and foremost I'd like to say, \"Justice h...          1   \n",
       "542            Yes, I do, Grace Kehler is that you? I have gi...         -1   \n",
       "541            Yes sir, I would first like to say to the Sanc...          1   \n",
       "\n",
       "                                                   More Info URL  \\\n",
       "Execution No.                                                      \n",
       "545            https://www.tdcj.state.tx.us/death_row/dr_info...   \n",
       "544            https://www.tdcj.state.tx.us/death_row/dr_info...   \n",
       "543            https://www.tdcj.state.tx.us/death_row/dr_info...   \n",
       "542            https://www.tdcj.state.tx.us/death_row/dr_info...   \n",
       "541            https://www.tdcj.state.tx.us/death_row/dr_info...   \n",
       "\n",
       "                                              Last Statement URL Poverty Rate  \\\n",
       "Execution No.                                                                   \n",
       "545            https://www.tdcj.state.tx.us/death_row/dr_info...         45.4   \n",
       "544            https://www.tdcj.state.tx.us/death_row/dr_info...         26.6   \n",
       "543            https://www.tdcj.state.tx.us/death_row/dr_info...         21.6   \n",
       "542            https://www.tdcj.state.tx.us/death_row/dr_info...         12.3   \n",
       "541            https://www.tdcj.state.tx.us/death_row/dr_info...         19.4   \n",
       "\n",
       "                YOB     ex year  \n",
       "Execution No.                    \n",
       "545            1970   11/9/2017  \n",
       "544            1979  10/12/2017  \n",
       "543            1971   7/27/2017  \n",
       "542            1956   3/14/2017  \n",
       "541            1973    3/7/2017  \n",
       "\n",
       "[5 rows x 25 columns]"
      ]
     },
     "execution_count": 7,
     "metadata": {},
     "output_type": "execute_result"
    }
   ],
   "source": [
    "# Setting poverty rate based on the inmate's county and year of birth\n",
    "povs = df_inmates.copy()\n",
    "\n",
    "for inmate in povs.iterrows():  \n",
    "    povs.loc[inmate[0]]['Poverty Rate'] = pov_by_county[(pov_by_county.index==povs.loc[inmate[0]]['County']) \n",
    "                                                       & (pov_by_county[\"Year\"]==povs.loc[inmate[0]]['YOB'])]\n",
    "\n",
    "df_inmates = povs.copy()\n",
    "df_inmates.head()"
   ]
  },
  {
   "cell_type": "code",
   "execution_count": 8,
   "metadata": {},
   "outputs": [
    {
     "data": {
      "text/plain": [
       "28.564935064935064"
      ]
     },
     "execution_count": 8,
     "metadata": {},
     "output_type": "execute_result"
    }
   ],
   "source": [
    "df_inmates['Age Received'].mean()"
   ]
  },
  {
   "cell_type": "code",
   "execution_count": 9,
   "metadata": {},
   "outputs": [
    {
     "data": {
      "text/plain": [
       "26.954545454545453"
      ]
     },
     "execution_count": 9,
     "metadata": {},
     "output_type": "execute_result"
    }
   ],
   "source": [
    "df_inmates['Age at Offense'].mean()"
   ]
  },
  {
   "cell_type": "markdown",
   "metadata": {},
   "source": [
    "Most inmates on average enter death row approximately 2.5 years after their offense (quick turn around time)."
   ]
  },
  {
   "cell_type": "code",
   "execution_count": 10,
   "metadata": {},
   "outputs": [
    {
     "data": {
      "text/plain": [
       "39.3394495412844"
      ]
     },
     "execution_count": 10,
     "metadata": {},
     "output_type": "execute_result"
    }
   ],
   "source": [
    "df_inmates['Execution Age'].mean()"
   ]
  },
  {
   "cell_type": "markdown",
   "metadata": {},
   "source": [
    "Most inmates on average stay on death row for approximately 11 years before being executed."
   ]
  },
  {
   "cell_type": "code",
   "execution_count": 11,
   "metadata": {},
   "outputs": [
    {
     "data": {
      "text/plain": [
       "Male      150\n",
       "Female      3\n",
       "male        1\n",
       "Name: Gender, dtype: int64"
      ]
     },
     "execution_count": 11,
     "metadata": {},
     "output_type": "execute_result"
    }
   ],
   "source": [
    "df_inmates['Gender'].value_counts()"
   ]
  },
  {
   "cell_type": "markdown",
   "metadata": {},
   "source": [
    "Clearly, males outnumber females."
   ]
  },
  {
   "cell_type": "code",
   "execution_count": 12,
   "metadata": {},
   "outputs": [
    {
     "data": {
      "text/plain": [
       "White       242\n",
       "Black       198\n",
       "Hispanic    103\n",
       "Other         2\n",
       "Name: Race, dtype: int64"
      ]
     },
     "execution_count": 12,
     "metadata": {},
     "output_type": "execute_result"
    }
   ],
   "source": [
    "df_inmates['Race'].value_counts()"
   ]
  },
  {
   "cell_type": "markdown",
   "metadata": {},
   "source": [
    "A majority of inmates being White, with a close 2nd of Black."
   ]
  },
  {
   "cell_type": "code",
   "execution_count": 13,
   "metadata": {},
   "outputs": [
    {
     "data": {
      "text/plain": [
       "12.0"
      ]
     },
     "execution_count": 13,
     "metadata": {},
     "output_type": "execute_result"
    }
   ],
   "source": [
    "df_inmates['Education Level'].max()"
   ]
  },
  {
   "cell_type": "code",
   "execution_count": 14,
   "metadata": {},
   "outputs": [
    {
     "data": {
      "text/plain": [
       "3.0"
      ]
     },
     "execution_count": 14,
     "metadata": {},
     "output_type": "execute_result"
    }
   ],
   "source": [
    "df_inmates['Education Level'].min()"
   ]
  },
  {
   "cell_type": "code",
   "execution_count": 15,
   "metadata": {},
   "outputs": [
    {
     "data": {
      "text/plain": [
       "9.876623376623376"
      ]
     },
     "execution_count": 15,
     "metadata": {},
     "output_type": "execute_result"
    }
   ],
   "source": [
    "df_inmates['Education Level'].mean()"
   ]
  },
  {
   "cell_type": "markdown",
   "metadata": {},
   "source": [
    "The lowest being 3rd grade and the highest finishing high school, inmates average an education level of 9th grade."
   ]
  },
  {
   "cell_type": "code",
   "execution_count": 16,
   "metadata": {},
   "outputs": [
    {
     "data": {
      "text/plain": [
       " 1    200\n",
       " 0    192\n",
       "-1    153\n",
       "Name: Sentiment, dtype: int64"
      ]
     },
     "execution_count": 16,
     "metadata": {},
     "output_type": "execute_result"
    }
   ],
   "source": [
    "df_inmates['Sentiment'].value_counts()"
   ]
  },
  {
   "cell_type": "markdown",
   "metadata": {},
   "source": [
    "A very close distribution between positive, negative, and neutral sentiments.  However, inmates are more positive at the time of their death."
   ]
  },
  {
   "cell_type": "code",
   "execution_count": 17,
   "metadata": {},
   "outputs": [
    {
     "data": {
      "text/plain": [
       "17.570458715596356"
      ]
     },
     "execution_count": 17,
     "metadata": {},
     "output_type": "execute_result"
    }
   ],
   "source": [
    "df_inmates['Poverty Rate'].mean()"
   ]
  },
  {
   "cell_type": "markdown",
   "metadata": {},
   "source": [
    "The average poverty rate for each executed prisoner during their year of birth (or closest available year) is 17.57%"
   ]
  },
  {
   "cell_type": "code",
   "execution_count": 18,
   "metadata": {},
   "outputs": [
    {
     "data": {
      "text/html": [
       "<div>\n",
       "<style scoped>\n",
       "    .dataframe tbody tr th:only-of-type {\n",
       "        vertical-align: middle;\n",
       "    }\n",
       "\n",
       "    .dataframe tbody tr th {\n",
       "        vertical-align: top;\n",
       "    }\n",
       "\n",
       "    .dataframe thead tr th {\n",
       "        text-align: left;\n",
       "    }\n",
       "\n",
       "    .dataframe thead tr:last-of-type th {\n",
       "        text-align: right;\n",
       "    }\n",
       "</style>\n",
       "<table border=\"1\" class=\"dataframe\">\n",
       "  <thead>\n",
       "    <tr>\n",
       "      <th></th>\n",
       "      <th colspan=\"8\" halign=\"left\">Rate</th>\n",
       "    </tr>\n",
       "    <tr>\n",
       "      <th></th>\n",
       "      <th>count</th>\n",
       "      <th>mean</th>\n",
       "      <th>std</th>\n",
       "      <th>min</th>\n",
       "      <th>25%</th>\n",
       "      <th>50%</th>\n",
       "      <th>75%</th>\n",
       "      <th>max</th>\n",
       "    </tr>\n",
       "    <tr>\n",
       "      <th>Year</th>\n",
       "      <th></th>\n",
       "      <th></th>\n",
       "      <th></th>\n",
       "      <th></th>\n",
       "      <th></th>\n",
       "      <th></th>\n",
       "      <th></th>\n",
       "      <th></th>\n",
       "    </tr>\n",
       "  </thead>\n",
       "  <tbody>\n",
       "    <tr>\n",
       "      <th>1989</th>\n",
       "      <td>253.0</td>\n",
       "      <td>19.985771</td>\n",
       "      <td>8.634788</td>\n",
       "      <td>5.6</td>\n",
       "      <td>14.200</td>\n",
       "      <td>18.70</td>\n",
       "      <td>24.500</td>\n",
       "      <td>55.2</td>\n",
       "    </tr>\n",
       "    <tr>\n",
       "      <th>1993</th>\n",
       "      <td>254.0</td>\n",
       "      <td>20.132283</td>\n",
       "      <td>7.230473</td>\n",
       "      <td>4.3</td>\n",
       "      <td>15.925</td>\n",
       "      <td>19.40</td>\n",
       "      <td>23.100</td>\n",
       "      <td>49.9</td>\n",
       "    </tr>\n",
       "    <tr>\n",
       "      <th>1995</th>\n",
       "      <td>254.0</td>\n",
       "      <td>20.188583</td>\n",
       "      <td>7.788183</td>\n",
       "      <td>3.5</td>\n",
       "      <td>15.425</td>\n",
       "      <td>19.20</td>\n",
       "      <td>23.875</td>\n",
       "      <td>52.0</td>\n",
       "    </tr>\n",
       "    <tr>\n",
       "      <th>1997</th>\n",
       "      <td>254.0</td>\n",
       "      <td>19.279134</td>\n",
       "      <td>7.001682</td>\n",
       "      <td>4.7</td>\n",
       "      <td>14.700</td>\n",
       "      <td>18.40</td>\n",
       "      <td>23.000</td>\n",
       "      <td>46.7</td>\n",
       "    </tr>\n",
       "    <tr>\n",
       "      <th>1998</th>\n",
       "      <td>254.0</td>\n",
       "      <td>18.381102</td>\n",
       "      <td>6.583339</td>\n",
       "      <td>4.0</td>\n",
       "      <td>14.325</td>\n",
       "      <td>17.40</td>\n",
       "      <td>21.450</td>\n",
       "      <td>43.8</td>\n",
       "    </tr>\n",
       "    <tr>\n",
       "      <th>1999</th>\n",
       "      <td>254.0</td>\n",
       "      <td>17.548819</td>\n",
       "      <td>6.171128</td>\n",
       "      <td>4.4</td>\n",
       "      <td>13.925</td>\n",
       "      <td>16.70</td>\n",
       "      <td>20.050</td>\n",
       "      <td>44.9</td>\n",
       "    </tr>\n",
       "    <tr>\n",
       "      <th>2000</th>\n",
       "      <td>254.0</td>\n",
       "      <td>17.763780</td>\n",
       "      <td>6.139687</td>\n",
       "      <td>4.3</td>\n",
       "      <td>13.925</td>\n",
       "      <td>17.00</td>\n",
       "      <td>20.500</td>\n",
       "      <td>42.2</td>\n",
       "    </tr>\n",
       "    <tr>\n",
       "      <th>2001</th>\n",
       "      <td>254.0</td>\n",
       "      <td>17.674803</td>\n",
       "      <td>5.942591</td>\n",
       "      <td>4.7</td>\n",
       "      <td>13.625</td>\n",
       "      <td>16.90</td>\n",
       "      <td>20.600</td>\n",
       "      <td>40.4</td>\n",
       "    </tr>\n",
       "    <tr>\n",
       "      <th>2002</th>\n",
       "      <td>254.0</td>\n",
       "      <td>17.300000</td>\n",
       "      <td>5.667828</td>\n",
       "      <td>4.8</td>\n",
       "      <td>13.650</td>\n",
       "      <td>16.50</td>\n",
       "      <td>20.100</td>\n",
       "      <td>39.0</td>\n",
       "    </tr>\n",
       "    <tr>\n",
       "      <th>2003</th>\n",
       "      <td>254.0</td>\n",
       "      <td>16.821654</td>\n",
       "      <td>4.915978</td>\n",
       "      <td>5.4</td>\n",
       "      <td>13.800</td>\n",
       "      <td>16.40</td>\n",
       "      <td>19.175</td>\n",
       "      <td>36.4</td>\n",
       "    </tr>\n",
       "    <tr>\n",
       "      <th>2004</th>\n",
       "      <td>254.0</td>\n",
       "      <td>16.483858</td>\n",
       "      <td>4.975594</td>\n",
       "      <td>5.5</td>\n",
       "      <td>13.250</td>\n",
       "      <td>16.10</td>\n",
       "      <td>19.000</td>\n",
       "      <td>34.8</td>\n",
       "    </tr>\n",
       "    <tr>\n",
       "      <th>2005</th>\n",
       "      <td>254.0</td>\n",
       "      <td>18.510630</td>\n",
       "      <td>6.422915</td>\n",
       "      <td>5.0</td>\n",
       "      <td>14.500</td>\n",
       "      <td>18.10</td>\n",
       "      <td>21.175</td>\n",
       "      <td>45.7</td>\n",
       "    </tr>\n",
       "    <tr>\n",
       "      <th>2006</th>\n",
       "      <td>254.0</td>\n",
       "      <td>18.311417</td>\n",
       "      <td>6.285669</td>\n",
       "      <td>4.9</td>\n",
       "      <td>14.400</td>\n",
       "      <td>17.50</td>\n",
       "      <td>21.200</td>\n",
       "      <td>44.4</td>\n",
       "    </tr>\n",
       "    <tr>\n",
       "      <th>2007</th>\n",
       "      <td>254.0</td>\n",
       "      <td>17.403543</td>\n",
       "      <td>6.025016</td>\n",
       "      <td>5.0</td>\n",
       "      <td>13.625</td>\n",
       "      <td>16.50</td>\n",
       "      <td>20.100</td>\n",
       "      <td>40.7</td>\n",
       "    </tr>\n",
       "    <tr>\n",
       "      <th>2008</th>\n",
       "      <td>254.0</td>\n",
       "      <td>17.040945</td>\n",
       "      <td>5.724275</td>\n",
       "      <td>6.2</td>\n",
       "      <td>13.400</td>\n",
       "      <td>15.95</td>\n",
       "      <td>20.500</td>\n",
       "      <td>36.8</td>\n",
       "    </tr>\n",
       "    <tr>\n",
       "      <th>2009</th>\n",
       "      <td>254.0</td>\n",
       "      <td>17.983465</td>\n",
       "      <td>6.016273</td>\n",
       "      <td>5.5</td>\n",
       "      <td>14.125</td>\n",
       "      <td>17.20</td>\n",
       "      <td>20.700</td>\n",
       "      <td>41.6</td>\n",
       "    </tr>\n",
       "    <tr>\n",
       "      <th>2010</th>\n",
       "      <td>254.0</td>\n",
       "      <td>18.540157</td>\n",
       "      <td>6.020857</td>\n",
       "      <td>6.4</td>\n",
       "      <td>14.500</td>\n",
       "      <td>18.20</td>\n",
       "      <td>21.300</td>\n",
       "      <td>39.9</td>\n",
       "    </tr>\n",
       "    <tr>\n",
       "      <th>2011</th>\n",
       "      <td>254.0</td>\n",
       "      <td>18.704331</td>\n",
       "      <td>6.017374</td>\n",
       "      <td>6.0</td>\n",
       "      <td>14.625</td>\n",
       "      <td>17.90</td>\n",
       "      <td>21.775</td>\n",
       "      <td>39.3</td>\n",
       "    </tr>\n",
       "    <tr>\n",
       "      <th>2012</th>\n",
       "      <td>254.0</td>\n",
       "      <td>18.324803</td>\n",
       "      <td>5.915182</td>\n",
       "      <td>6.7</td>\n",
       "      <td>14.300</td>\n",
       "      <td>17.80</td>\n",
       "      <td>21.275</td>\n",
       "      <td>43.6</td>\n",
       "    </tr>\n",
       "    <tr>\n",
       "      <th>2013</th>\n",
       "      <td>254.0</td>\n",
       "      <td>18.149606</td>\n",
       "      <td>5.651617</td>\n",
       "      <td>6.6</td>\n",
       "      <td>14.225</td>\n",
       "      <td>17.90</td>\n",
       "      <td>21.600</td>\n",
       "      <td>43.1</td>\n",
       "    </tr>\n",
       "    <tr>\n",
       "      <th>2014</th>\n",
       "      <td>254.0</td>\n",
       "      <td>17.455512</td>\n",
       "      <td>5.480265</td>\n",
       "      <td>6.8</td>\n",
       "      <td>13.825</td>\n",
       "      <td>17.20</td>\n",
       "      <td>20.375</td>\n",
       "      <td>38.8</td>\n",
       "    </tr>\n",
       "    <tr>\n",
       "      <th>2015</th>\n",
       "      <td>254.0</td>\n",
       "      <td>16.818504</td>\n",
       "      <td>5.327074</td>\n",
       "      <td>6.0</td>\n",
       "      <td>13.200</td>\n",
       "      <td>16.50</td>\n",
       "      <td>19.975</td>\n",
       "      <td>35.4</td>\n",
       "    </tr>\n",
       "  </tbody>\n",
       "</table>\n",
       "</div>"
      ],
      "text/plain": [
       "       Rate                                                       \n",
       "      count       mean       std  min     25%    50%     75%   max\n",
       "Year                                                              \n",
       "1989  253.0  19.985771  8.634788  5.6  14.200  18.70  24.500  55.2\n",
       "1993  254.0  20.132283  7.230473  4.3  15.925  19.40  23.100  49.9\n",
       "1995  254.0  20.188583  7.788183  3.5  15.425  19.20  23.875  52.0\n",
       "1997  254.0  19.279134  7.001682  4.7  14.700  18.40  23.000  46.7\n",
       "1998  254.0  18.381102  6.583339  4.0  14.325  17.40  21.450  43.8\n",
       "1999  254.0  17.548819  6.171128  4.4  13.925  16.70  20.050  44.9\n",
       "2000  254.0  17.763780  6.139687  4.3  13.925  17.00  20.500  42.2\n",
       "2001  254.0  17.674803  5.942591  4.7  13.625  16.90  20.600  40.4\n",
       "2002  254.0  17.300000  5.667828  4.8  13.650  16.50  20.100  39.0\n",
       "2003  254.0  16.821654  4.915978  5.4  13.800  16.40  19.175  36.4\n",
       "2004  254.0  16.483858  4.975594  5.5  13.250  16.10  19.000  34.8\n",
       "2005  254.0  18.510630  6.422915  5.0  14.500  18.10  21.175  45.7\n",
       "2006  254.0  18.311417  6.285669  4.9  14.400  17.50  21.200  44.4\n",
       "2007  254.0  17.403543  6.025016  5.0  13.625  16.50  20.100  40.7\n",
       "2008  254.0  17.040945  5.724275  6.2  13.400  15.95  20.500  36.8\n",
       "2009  254.0  17.983465  6.016273  5.5  14.125  17.20  20.700  41.6\n",
       "2010  254.0  18.540157  6.020857  6.4  14.500  18.20  21.300  39.9\n",
       "2011  254.0  18.704331  6.017374  6.0  14.625  17.90  21.775  39.3\n",
       "2012  254.0  18.324803  5.915182  6.7  14.300  17.80  21.275  43.6\n",
       "2013  254.0  18.149606  5.651617  6.6  14.225  17.90  21.600  43.1\n",
       "2014  254.0  17.455512  5.480265  6.8  13.825  17.20  20.375  38.8\n",
       "2015  254.0  16.818504  5.327074  6.0  13.200  16.50  19.975  35.4"
      ]
     },
     "execution_count": 18,
     "metadata": {},
     "output_type": "execute_result"
    }
   ],
   "source": [
    "pov_by_county.groupby(\"Year\").describe()"
   ]
  },
  {
   "cell_type": "markdown",
   "metadata": {},
   "source": [
    "Average poverty rates for all Texas counties for every available year."
   ]
  },
  {
   "cell_type": "code",
   "execution_count": 19,
   "metadata": {},
   "outputs": [],
   "source": [
    "avg_pov_rates = pov_by_county.groupby(\"County\").describe()['Rate']['mean']"
   ]
  },
  {
   "cell_type": "code",
   "execution_count": 20,
   "metadata": {},
   "outputs": [
    {
     "data": {
      "text/html": [
       "<div>\n",
       "<style scoped>\n",
       "    .dataframe tbody tr th:only-of-type {\n",
       "        vertical-align: middle;\n",
       "    }\n",
       "\n",
       "    .dataframe tbody tr th {\n",
       "        vertical-align: top;\n",
       "    }\n",
       "\n",
       "    .dataframe thead th {\n",
       "        text-align: right;\n",
       "    }\n",
       "</style>\n",
       "<table border=\"1\" class=\"dataframe\">\n",
       "  <thead>\n",
       "    <tr style=\"text-align: right;\">\n",
       "      <th></th>\n",
       "      <th>County</th>\n",
       "      <th>Poverty Rate</th>\n",
       "      <th>Inmates</th>\n",
       "    </tr>\n",
       "  </thead>\n",
       "  <tbody>\n",
       "    <tr>\n",
       "      <th>0</th>\n",
       "      <td>Hidalgo</td>\n",
       "      <td>45.4</td>\n",
       "      <td>6</td>\n",
       "    </tr>\n",
       "    <tr>\n",
       "      <th>1</th>\n",
       "      <td>Bee</td>\n",
       "      <td>26.6</td>\n",
       "      <td>2</td>\n",
       "    </tr>\n",
       "    <tr>\n",
       "      <th>2</th>\n",
       "      <td>Bexar</td>\n",
       "      <td>21.6</td>\n",
       "      <td>44</td>\n",
       "    </tr>\n",
       "    <tr>\n",
       "      <th>3</th>\n",
       "      <td>Tarrant</td>\n",
       "      <td>12.3</td>\n",
       "      <td>40</td>\n",
       "    </tr>\n",
       "    <tr>\n",
       "      <th>4</th>\n",
       "      <td>Bexar</td>\n",
       "      <td>19.4</td>\n",
       "      <td>44</td>\n",
       "    </tr>\n",
       "  </tbody>\n",
       "</table>\n",
       "</div>"
      ],
      "text/plain": [
       "    County  Poverty Rate  Inmates\n",
       "0  Hidalgo          45.4        6\n",
       "1      Bee          26.6        2\n",
       "2    Bexar          21.6       44\n",
       "3  Tarrant          12.3       40\n",
       "4    Bexar          19.4       44"
      ]
     },
     "execution_count": 20,
     "metadata": {},
     "output_type": "execute_result"
    }
   ],
   "source": [
    "# looking at poverty rates for each county for each year of birth\n",
    "counties = df_inmates[['County', 'Poverty Rate']]\n",
    "\n",
    "counties = counties.set_index(\"County\")\n",
    "counties['Inmates'] = df_inmates['County'].value_counts()\n",
    "counties = counties.reset_index()\n",
    "\n",
    "counties.head()"
   ]
  },
  {
   "cell_type": "code",
   "execution_count": 21,
   "metadata": {},
   "outputs": [
    {
     "data": {
      "text/plain": [
       "<matplotlib.axes._subplots.AxesSubplot at 0x1fbde3dd128>"
      ]
     },
     "execution_count": 21,
     "metadata": {},
     "output_type": "execute_result"
    },
    {
     "data": {
      "image/png": "[encoded data removed]",
      "text/plain": [
       "<matplotlib.figure.Figure at 0x1fbde3d5b70>"
      ]
     },
     "metadata": {},
     "output_type": "display_data"
    }
   ],
   "source": [
    "sns.regplot(x=\"Poverty Rate\", y=\"Inmates\", data=counties)"
   ]
  },
  {
   "cell_type": "markdown",
   "metadata": {},
   "source": [
    "Correlation between inmate numbers and poverty rates"
   ]
  },
  {
   "cell_type": "code",
   "execution_count": 22,
   "metadata": {},
   "outputs": [
    {
     "data": {
      "text/plain": [
       "array([[ 1.        ,  0.00732972],\n",
       "       [ 0.00732972,  1.        ]])"
      ]
     },
     "execution_count": 22,
     "metadata": {},
     "output_type": "execute_result"
    }
   ],
   "source": [
    "np.corrcoef(x=counties[\"Poverty Rate\"], y=counties[\"Inmates\"])"
   ]
  },
  {
   "cell_type": "markdown",
   "metadata": {},
   "source": [
    "Correlation coefficient between inmate numbers and poverty rates"
   ]
  },
  {
   "cell_type": "code",
   "execution_count": 23,
   "metadata": {},
   "outputs": [
    {
     "name": "stdout",
     "output_type": "stream",
     "text": [
      "All inmates\n",
      "Slope: 0.061527916181735774\n",
      "Intercept: 43.82351344483545\n",
      "r-value: 0.007329715578460725\n",
      "p-value: 0.8644413029031214\n",
      "Std. Error: 0.36022471197567885\n"
     ]
    }
   ],
   "source": [
    "x = counties['Poverty Rate']\n",
    "y = counties['Inmates']\n",
    "slope, intercept, r_value, p_value, std_err = stats.linregress(x,y)\n",
    "print (\"All inmates\\nSlope: {}\\nIntercept: {}\\nr-value: {}\\np-value: {}\\nStd. Error: {}\".format(slope, intercept, r_value, p_value, std_err))"
   ]
  },
  {
   "cell_type": "code",
   "execution_count": 24,
   "metadata": {},
   "outputs": [
    {
     "data": {
      "text/plain": [
       "array([[ 1.        ,  0.04892873],\n",
       "       [ 0.04892873,  1.        ]])"
      ]
     },
     "execution_count": 24,
     "metadata": {},
     "output_type": "execute_result"
    },
    {
     "data": {
      "image/png": "[encoded data removed]",
      "text/plain": [
       "<matplotlib.figure.Figure at 0x1fbde43f438>"
      ]
     },
     "metadata": {},
     "output_type": "display_data"
    }
   ],
   "source": [
    "# limiting data to counties with 3 or more inmates\n",
    "counties_3 = counties[counties.Inmates > 2]\n",
    "sns.regplot(x=\"Poverty Rate\", y=\"Inmates\", data=counties_3)\n",
    "np.corrcoef(x=counties_3[\"Poverty Rate\"], y=counties_3[\"Inmates\"])"
   ]
  },
  {
   "cell_type": "code",
   "execution_count": 25,
   "metadata": {},
   "outputs": [
    {
     "name": "stdout",
     "output_type": "stream",
     "text": [
      "3 or more inmates\n",
      "Slope: 0.41018374292506804\n",
      "Intercept: 44.50654102952373\n",
      "r-value: 0.04892872815022738\n",
      "p-value: 0.2887712864620684\n",
      "Std. Error: 0.38622920452985654\n"
     ]
    }
   ],
   "source": [
    "x = counties_3['Poverty Rate']\n",
    "y = counties_3['Inmates']\n",
    "slope, intercept, r_value, p_value, std_err = stats.linregress(x,y)\n",
    "print (\"3 or more inmates\\nSlope: {}\\nIntercept: {}\\nr-value: {}\\np-value: {}\\nStd. Error: {}\".format(slope, intercept, r_value, p_value, std_err))"
   ]
  },
  {
   "cell_type": "code",
   "execution_count": 26,
   "metadata": {},
   "outputs": [
    {
     "data": {
      "text/plain": [
       "array([[ 1.        ,  0.15838181],\n",
       "       [ 0.15838181,  1.        ]])"
      ]
     },
     "execution_count": 26,
     "metadata": {},
     "output_type": "execute_result"
    },
    {
     "data": {
      "image/png": "[encoded data removed]",
      "text/plain": [
       "<matplotlib.figure.Figure at 0x1fbe0642278>"
      ]
     },
     "metadata": {},
     "output_type": "display_data"
    }
   ],
   "source": [
    "# limiting data to counties with 10 or more inmates\n",
    "counties_10 = counties[counties.Inmates > 9]\n",
    "sns.regplot(x=\"Poverty Rate\", y=\"Inmates\", data=counties_10)\n",
    "np.corrcoef(x=counties_10[\"Poverty Rate\"], y=counties_10[\"Inmates\"])"
   ]
  },
  {
   "cell_type": "code",
   "execution_count": 27,
   "metadata": {},
   "outputs": [
    {
     "name": "stdout",
     "output_type": "stream",
     "text": [
      "10 or more inmates\n",
      "Slope: 2.136562272204252\n",
      "Intercept: 29.62980516429316\n",
      "r-value: 0.15838181031433324\n",
      "p-value: 0.002653758596054254\n",
      "Std. Error: 0.7059414373897345\n"
     ]
    }
   ],
   "source": [
    "x = counties_10['Poverty Rate']\n",
    "y = counties_10['Inmates']\n",
    "slope, intercept, r_value, p_value, std_err = stats.linregress(x,y)\n",
    "print (\"10 or more inmates\\nSlope: {}\\nIntercept: {}\\nr-value: {}\\np-value: {}\\nStd. Error: {}\".format(slope, intercept, r_value, p_value, std_err))"
   ]
  },
  {
   "cell_type": "code",
   "execution_count": 28,
   "metadata": {},
   "outputs": [
    {
     "data": {
      "text/html": [
       "<div>\n",
       "<style scoped>\n",
       "    .dataframe tbody tr th:only-of-type {\n",
       "        vertical-align: middle;\n",
       "    }\n",
       "\n",
       "    .dataframe tbody tr th {\n",
       "        vertical-align: top;\n",
       "    }\n",
       "\n",
       "    .dataframe thead th {\n",
       "        text-align: right;\n",
       "    }\n",
       "</style>\n",
       "<table border=\"1\" class=\"dataframe\">\n",
       "  <thead>\n",
       "    <tr style=\"text-align: right;\">\n",
       "      <th></th>\n",
       "      <th>Poverty Rate</th>\n",
       "      <th>Inmates</th>\n",
       "    </tr>\n",
       "    <tr>\n",
       "      <th>County</th>\n",
       "      <th></th>\n",
       "      <th></th>\n",
       "    </tr>\n",
       "  </thead>\n",
       "  <tbody>\n",
       "    <tr>\n",
       "      <th>Hidalgo</th>\n",
       "      <td>45.4</td>\n",
       "      <td>6</td>\n",
       "    </tr>\n",
       "    <tr>\n",
       "      <th>Bee</th>\n",
       "      <td>26.6</td>\n",
       "      <td>2</td>\n",
       "    </tr>\n",
       "    <tr>\n",
       "      <th>Bexar</th>\n",
       "      <td>21.6</td>\n",
       "      <td>44</td>\n",
       "    </tr>\n",
       "    <tr>\n",
       "      <th>Tarrant</th>\n",
       "      <td>12.3</td>\n",
       "      <td>40</td>\n",
       "    </tr>\n",
       "    <tr>\n",
       "      <th>Bexar</th>\n",
       "      <td>19.4</td>\n",
       "      <td>44</td>\n",
       "    </tr>\n",
       "  </tbody>\n",
       "</table>\n",
       "</div>"
      ],
      "text/plain": [
       "         Poverty Rate  Inmates\n",
       "County                        \n",
       "Hidalgo          45.4        6\n",
       "Bee              26.6        2\n",
       "Bexar            21.6       44\n",
       "Tarrant          12.3       40\n",
       "Bexar            19.4       44"
      ]
     },
     "execution_count": 28,
     "metadata": {},
     "output_type": "execute_result"
    }
   ],
   "source": [
    "counties = counties.set_index(\"County\")\n",
    "counties.head()"
   ]
  },
  {
   "cell_type": "code",
   "execution_count": 29,
   "metadata": {},
   "outputs": [
    {
     "data": {
      "text/html": [
       "<div>\n",
       "<style scoped>\n",
       "    .dataframe tbody tr th:only-of-type {\n",
       "        vertical-align: middle;\n",
       "    }\n",
       "\n",
       "    .dataframe tbody tr th {\n",
       "        vertical-align: top;\n",
       "    }\n",
       "\n",
       "    .dataframe thead th {\n",
       "        text-align: right;\n",
       "    }\n",
       "</style>\n",
       "<table border=\"1\" class=\"dataframe\">\n",
       "  <thead>\n",
       "    <tr style=\"text-align: right;\">\n",
       "      <th></th>\n",
       "      <th>Poverty Rate</th>\n",
       "      <th>Inmates</th>\n",
       "    </tr>\n",
       "    <tr>\n",
       "      <th>County</th>\n",
       "      <th></th>\n",
       "      <th></th>\n",
       "    </tr>\n",
       "  </thead>\n",
       "  <tbody>\n",
       "    <tr>\n",
       "      <th>Hidalgo</th>\n",
       "      <td>45.4</td>\n",
       "      <td>6</td>\n",
       "    </tr>\n",
       "    <tr>\n",
       "      <th>Bee</th>\n",
       "      <td>26.6</td>\n",
       "      <td>2</td>\n",
       "    </tr>\n",
       "    <tr>\n",
       "      <th>Bexar</th>\n",
       "      <td>21.6</td>\n",
       "      <td>44</td>\n",
       "    </tr>\n",
       "    <tr>\n",
       "      <th>Tarrant</th>\n",
       "      <td>12.3</td>\n",
       "      <td>40</td>\n",
       "    </tr>\n",
       "    <tr>\n",
       "      <th>Dallas</th>\n",
       "      <td>13.8</td>\n",
       "      <td>56</td>\n",
       "    </tr>\n",
       "  </tbody>\n",
       "</table>\n",
       "</div>"
      ],
      "text/plain": [
       "         Poverty Rate  Inmates\n",
       "County                        \n",
       "Hidalgo          45.4        6\n",
       "Bee              26.6        2\n",
       "Bexar            21.6       44\n",
       "Tarrant          12.3       40\n",
       "Dallas           13.8       56"
      ]
     },
     "execution_count": 29,
     "metadata": {},
     "output_type": "execute_result"
    }
   ],
   "source": [
    "# creating dataframe with only unique County values to use for inmate counts\n",
    "unique_counties = counties.reset_index().drop_duplicates(subset='County').set_index(\"County\")\n",
    "unique_counties.head()"
   ]
  },
  {
   "cell_type": "code",
   "execution_count": 30,
   "metadata": {},
   "outputs": [],
   "source": [
    "avg_inmate_pov_rate = counties.groupby(\"County\").describe()['Poverty Rate']['mean']"
   ]
  },
  {
   "cell_type": "code",
   "execution_count": 31,
   "metadata": {},
   "outputs": [],
   "source": [
    "# setting up values for Bokeh visualization\n",
    "palette.reverse()\n",
    "color_mapper = LogColorMapper(palette=palette)\n",
    "\n",
    "TOOLS = \"pan,wheel_zoom,reset,hover,save\"\n",
    "\n",
    "tx_counties = {\n",
    "    code: county for code, county in tx_counties.items() if county[\"state\"] == \"tx\"\n",
    "}\n",
    "\n",
    "# setting all county latitudes/longitudes\n",
    "county_xs = [county[\"lons\"] for county in tx_counties.values()]\n",
    "county_ys = [county[\"lats\"] for county in tx_counties.values()]\n",
    "\n",
    "# setting counties with inmates latitudes/longitudes\n",
    "inmate_county_xs = [county[\"lons\"] for county in tx_counties.values() if county['name'] in counties.index]\n",
    "inmate_county_ys = [county[\"lats\"] for county in tx_counties.values() if county['name'] in counties.index]\n",
    "\n",
    "# getting all county names and poverty rates\n",
    "county_names = [county['name'] for county in tx_counties.values()]\n",
    "county_rates = [avg_pov_rates[name] for name in county_names]\n",
    "\n",
    "# getting counties with inmates names and rates\n",
    "inmate_county_names = [county['name'] for county in tx_counties.values() if county['name'] in counties.index]\n",
    "inmate_county_rates = [avg_inmate_pov_rate[name] for name in county_names if name in counties.index]\n",
    "\n",
    "# getting number of inmates per county\n",
    "exinmates = [0 for count in tx_counties]\n",
    "inmate_exinmates = [unique_counties.loc[name]['Inmates'] for name in counties.index]"
   ]
  },
  {
   "cell_type": "code",
   "execution_count": 32,
   "metadata": {},
   "outputs": [
    {
     "name": "stderr",
     "output_type": "stream",
     "text": [
      "C:\\Users\\Jess\\Anaconda3\\lib\\site-packages\\bokeh\\models\\sources.py:89: BokehUserWarning: ColumnDataSource's columns must be of the same length\n",
      "  lambda: warnings.warn(\"ColumnDataSource's columns must be of the same length\", BokehUserWarning))\n"
     ]
    }
   ],
   "source": [
    "# source for all counties\n",
    "other_source = ColumnDataSource(data=dict(\n",
    "    x=county_xs,\n",
    "    y=county_ys,\n",
    "    name=county_names,\n",
    "    rate=county_rates,\n",
    "    exinmates=exinmates\n",
    "))\n",
    "\n",
    "# source for inmate counties\n",
    "inmate_source = ColumnDataSource(data=dict(\n",
    "    x=inmate_county_xs,\n",
    "    y=inmate_county_ys,\n",
    "    name=inmate_county_names,\n",
    "    rate=inmate_county_rates,\n",
    "    exinmates=inmate_exinmates\n",
    "))\n",
    "\n",
    "# create Bokeh figure\n",
    "p = figure(\n",
    "    title=\"Texas Executed Inmates\", tools=TOOLS,\n",
    "    x_axis_location=None, y_axis_location=None\n",
    ")\n",
    "p.grid.grid_line_color = None\n",
    "\n",
    "# make Texas and outline all counties\n",
    "p.patches('x', 'y', source=other_source,\n",
    "          fill_color={'field': 'rate', 'transform': color_mapper},\n",
    "          fill_alpha=0.7, line_color=\"white\", line_width=0.1)\n",
    "\n",
    "# highlight inmate counties\n",
    "p.patches('x', 'y', source=inmate_source,\n",
    "         fill_color={'field': 'rate', 'transform': color_mapper},\n",
    "         fill_alpha=0.7, line_color=\"white\", line_width=1.75)\n",
    "\n",
    "# create mouse-hover ability\n",
    "hover = p.select_one(HoverTool)\n",
    "hover.point_policy = \"follow_mouse\"\n",
    "hover.tooltips = [\n",
    "    (\"Name\", \"@name\"),\n",
    "    (\"Poverty rate\", \"@rate%\"),\n",
    "    (\"Total inmates\", \"@exinmates\")\n",
    "]\n",
    "\n",
    "# create visualization\n",
    "show(p)"
   ]
  },
  {
   "cell_type": "code",
   "execution_count": null,
   "metadata": {
    "collapsed": true
   },
   "outputs": [],
   "source": []
  }
 ],
 "metadata": {
  "kernelspec": {
   "display_name": "Python 3",
   "language": "python",
   "name": "python3"
  },
  "language_info": {
   "codemirror_mode": {
    "name": "ipython",
    "version": 3
   },
   "file_extension": ".py",
   "mimetype": "text/x-python",
   "name": "python",
   "nbconvert_exporter": "python",
   "pygments_lexer": "ipython3",
   "version": "3.6.1"
  }
 },
 "nbformat": 4,
 "nbformat_minor": 2
}
