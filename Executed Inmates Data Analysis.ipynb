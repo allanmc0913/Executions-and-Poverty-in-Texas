{
 "cells": [
  {
   "cell_type": "code",
   "execution_count": 1,
   "metadata": {
    "collapsed": true
   },
   "outputs": [],
   "source": [
    "%matplotlib inline\n",
    "import pandas as pd\n",
    "import random\n",
    "import numpy as np\n",
    "from random import sample"
   ]
  },
  {
   "cell_type": "code",
   "execution_count": 3,
   "metadata": {},
   "outputs": [
    {
     "data": {
      "text/html": [
       "<style>body {\n",
       "    margin: 0;\n",
       "    font-family: Helvetica;\n",
       "}\n",
       "table.dataframe {\n",
       "    border-collapse: collapse;\n",
       "    border: none;\n",
       "}\n",
       "table.dataframe tr {\n",
       "    border: none;\n",
       "}\n",
       "table.dataframe td, table.dataframe th {\n",
       "    margin: 0;\n",
       "    border: 1px solid white;\n",
       "    padding-left: 0.25em;\n",
       "    padding-right: 0.25em;\n",
       "}\n",
       "table.dataframe th:not(:empty) {\n",
       "    background-color: #fec;\n",
       "    text-align: left;\n",
       "    font-weight: normal;\n",
       "}\n",
       "table.dataframe tr:nth-child(2) th:empty {\n",
       "    border-left: none;\n",
       "    border-right: 1px dashed #888;\n",
       "}\n",
       "table.dataframe td {\n",
       "    border: 2px solid #ccf;\n",
       "    background-color: #f4f4ff;\n",
       "}\n",
       "h3 {\n",
       "    color: white;\n",
       "    background-color: black;\n",
       "    padding: 0.5em;\n",
       "}\n",
       "</style>"
      ],
      "text/plain": [
       "<IPython.core.display.HTML object>"
      ]
     },
     "execution_count": 3,
     "metadata": {},
     "output_type": "execute_result"
    }
   ],
   "source": [
    "from IPython.core.display import HTML\n",
    "css = open('style-table.css').read() + open('style-notebook.css').read()\n",
    "HTML('<style>{}</style>'.format(css))"
   ]
  },
  {
   "cell_type": "code",
   "execution_count": 6,
   "metadata": {},
   "outputs": [
    {
     "data": {
      "text/html": [
       "<div>\n",
       "<style>\n",
       "    .dataframe thead tr:only-child th {\n",
       "        text-align: right;\n",
       "    }\n",
       "\n",
       "    .dataframe thead th {\n",
       "        text-align: left;\n",
       "    }\n",
       "\n",
       "    .dataframe tbody tr th {\n",
       "        vertical-align: top;\n",
       "    }\n",
       "</style>\n",
       "<table border=\"1\" class=\"dataframe\">\n",
       "  <thead>\n",
       "    <tr style=\"text-align: right;\">\n",
       "      <th></th>\n",
       "      <th>Execution No.</th>\n",
       "      <th>TDCJ Number</th>\n",
       "      <th>First Name</th>\n",
       "      <th>Last Name</th>\n",
       "      <th>Date Received</th>\n",
       "      <th>Age Received</th>\n",
       "      <th>Date of Offense</th>\n",
       "      <th>Age at Offense</th>\n",
       "      <th>Execution Date</th>\n",
       "      <th>Execution Age</th>\n",
       "      <th>...</th>\n",
       "      <th>Education Level</th>\n",
       "      <th>Weight</th>\n",
       "      <th>Eye Color</th>\n",
       "      <th>Hair Color</th>\n",
       "      <th>Native State</th>\n",
       "      <th>Last Statement</th>\n",
       "      <th>Sentiment</th>\n",
       "      <th>More Info URL</th>\n",
       "      <th>Last Statement URL</th>\n",
       "      <th>Poverty Rate</th>\n",
       "    </tr>\n",
       "  </thead>\n",
       "  <tbody>\n",
       "    <tr>\n",
       "      <th>0</th>\n",
       "      <td>545</td>\n",
       "      <td>999275</td>\n",
       "      <td>Ruben</td>\n",
       "      <td>Cardenas</td>\n",
       "      <td>07/29/1998</td>\n",
       "      <td>28.0</td>\n",
       "      <td>02/22/1997</td>\n",
       "      <td>26.0</td>\n",
       "      <td>11/09/2017</td>\n",
       "      <td>47</td>\n",
       "      <td>...</td>\n",
       "      <td>11.0</td>\n",
       "      <td>204.0</td>\n",
       "      <td>Brown</td>\n",
       "      <td>Black</td>\n",
       "      <td>Mexico</td>\n",
       "      <td>This is my statement:Â  My final words.Â  Firs...</td>\n",
       "      <td>-1</td>\n",
       "      <td>https://www.tdcj.state.tx.us/death_row/dr_info...</td>\n",
       "      <td>https://www.tdcj.state.tx.us/death_row/dr_info...</td>\n",
       "      <td>45.4</td>\n",
       "    </tr>\n",
       "    <tr>\n",
       "      <th>1</th>\n",
       "      <td>544</td>\n",
       "      <td>999411</td>\n",
       "      <td>Robert</td>\n",
       "      <td>Pruett</td>\n",
       "      <td>04/30/2002</td>\n",
       "      <td>22.0</td>\n",
       "      <td>12/17/1999</td>\n",
       "      <td>20.0</td>\n",
       "      <td>10/12/2017</td>\n",
       "      <td>38</td>\n",
       "      <td>...</td>\n",
       "      <td>8.0</td>\n",
       "      <td>160.0</td>\n",
       "      <td>Brown</td>\n",
       "      <td>Blonde</td>\n",
       "      <td>Texas</td>\n",
       "      <td>I just want to let everyone in here to know I ...</td>\n",
       "      <td>-1</td>\n",
       "      <td>https://www.tdcj.state.tx.us/death_row/dr_info...</td>\n",
       "      <td>https://www.tdcj.state.tx.us/death_row/dr_info...</td>\n",
       "      <td>26.6</td>\n",
       "    </tr>\n",
       "    <tr>\n",
       "      <th>2</th>\n",
       "      <td>543</td>\n",
       "      <td>999494</td>\n",
       "      <td>Taichin</td>\n",
       "      <td>Preyor</td>\n",
       "      <td>03/30/2005</td>\n",
       "      <td>34.0</td>\n",
       "      <td>02/26/2004</td>\n",
       "      <td>33.0</td>\n",
       "      <td>7/27/2017</td>\n",
       "      <td>46</td>\n",
       "      <td>...</td>\n",
       "      <td>10.0</td>\n",
       "      <td>219.0</td>\n",
       "      <td>Brown</td>\n",
       "      <td>Black</td>\n",
       "      <td>Texas</td>\n",
       "      <td>First and foremost I'd like to say, \"Justice h...</td>\n",
       "      <td>1</td>\n",
       "      <td>https://www.tdcj.state.tx.us/death_row/dr_info...</td>\n",
       "      <td>https://www.tdcj.state.tx.us/death_row/dr_info...</td>\n",
       "      <td>21.6</td>\n",
       "    </tr>\n",
       "    <tr>\n",
       "      <th>3</th>\n",
       "      <td>542</td>\n",
       "      <td>997</td>\n",
       "      <td>James</td>\n",
       "      <td>Bigby</td>\n",
       "      <td>NaN</td>\n",
       "      <td>NaN</td>\n",
       "      <td>NaN</td>\n",
       "      <td>NaN</td>\n",
       "      <td>3/14/2017</td>\n",
       "      <td>61</td>\n",
       "      <td>...</td>\n",
       "      <td>NaN</td>\n",
       "      <td>NaN</td>\n",
       "      <td>NaN</td>\n",
       "      <td>NaN</td>\n",
       "      <td>NaN</td>\n",
       "      <td>Yes, I do, Grace Kehler is that you? I have gi...</td>\n",
       "      <td>-1</td>\n",
       "      <td>https://www.tdcj.state.tx.us/death_row/dr_info...</td>\n",
       "      <td>https://www.tdcj.state.tx.us/death_row/dr_info...</td>\n",
       "      <td>12.3</td>\n",
       "    </tr>\n",
       "    <tr>\n",
       "      <th>4</th>\n",
       "      <td>541</td>\n",
       "      <td>999145</td>\n",
       "      <td>Rolando</td>\n",
       "      <td>Ruiz</td>\n",
       "      <td>NaN</td>\n",
       "      <td>NaN</td>\n",
       "      <td>NaN</td>\n",
       "      <td>NaN</td>\n",
       "      <td>3/07/2017</td>\n",
       "      <td>44</td>\n",
       "      <td>...</td>\n",
       "      <td>NaN</td>\n",
       "      <td>NaN</td>\n",
       "      <td>NaN</td>\n",
       "      <td>NaN</td>\n",
       "      <td>NaN</td>\n",
       "      <td>Yes sir, I would first like to say to the Sanc...</td>\n",
       "      <td>1</td>\n",
       "      <td>https://www.tdcj.state.tx.us/death_row/dr_info...</td>\n",
       "      <td>https://www.tdcj.state.tx.us/death_row/dr_info...</td>\n",
       "      <td>19.4</td>\n",
       "    </tr>\n",
       "  </tbody>\n",
       "</table>\n",
       "<p>5 rows × 24 columns</p>\n",
       "</div>"
      ],
      "text/plain": [
       "   Execution No.  TDCJ Number First Name Last Name Date Received  \\\n",
       "0            545       999275      Ruben  Cardenas    07/29/1998   \n",
       "1            544       999411     Robert    Pruett    04/30/2002   \n",
       "2            543       999494    Taichin    Preyor    03/30/2005   \n",
       "3            542          997      James     Bigby           NaN   \n",
       "4            541       999145    Rolando      Ruiz           NaN   \n",
       "\n",
       "   Age Received Date of Offense  Age at Offense Execution Date  Execution Age  \\\n",
       "0          28.0      02/22/1997            26.0     11/09/2017             47   \n",
       "1          22.0      12/17/1999            20.0     10/12/2017             38   \n",
       "2          34.0      02/26/2004            33.0      7/27/2017             46   \n",
       "3           NaN             NaN             NaN      3/14/2017             61   \n",
       "4           NaN             NaN             NaN      3/07/2017             44   \n",
       "\n",
       "      ...      Education Level Weight Eye Color Hair Color  Native State  \\\n",
       "0     ...                 11.0  204.0     Brown      Black        Mexico   \n",
       "1     ...                  8.0  160.0     Brown     Blonde         Texas   \n",
       "2     ...                 10.0  219.0     Brown      Black         Texas   \n",
       "3     ...                  NaN    NaN       NaN        NaN           NaN   \n",
       "4     ...                  NaN    NaN       NaN        NaN           NaN   \n",
       "\n",
       "                                      Last Statement Sentiment  \\\n",
       "0  This is my statement:Â  My final words.Â  Firs...        -1   \n",
       "1  I just want to let everyone in here to know I ...        -1   \n",
       "2  First and foremost I'd like to say, \"Justice h...         1   \n",
       "3  Yes, I do, Grace Kehler is that you? I have gi...        -1   \n",
       "4  Yes sir, I would first like to say to the Sanc...         1   \n",
       "\n",
       "                                       More Info URL  \\\n",
       "0  https://www.tdcj.state.tx.us/death_row/dr_info...   \n",
       "1  https://www.tdcj.state.tx.us/death_row/dr_info...   \n",
       "2  https://www.tdcj.state.tx.us/death_row/dr_info...   \n",
       "3  https://www.tdcj.state.tx.us/death_row/dr_info...   \n",
       "4  https://www.tdcj.state.tx.us/death_row/dr_info...   \n",
       "\n",
       "                                  Last Statement URL Poverty Rate  \n",
       "0  https://www.tdcj.state.tx.us/death_row/dr_info...         45.4  \n",
       "1  https://www.tdcj.state.tx.us/death_row/dr_info...         26.6  \n",
       "2  https://www.tdcj.state.tx.us/death_row/dr_info...         21.6  \n",
       "3  https://www.tdcj.state.tx.us/death_row/dr_info...         12.3  \n",
       "4  https://www.tdcj.state.tx.us/death_row/dr_info...         19.4  \n",
       "\n",
       "[5 rows x 24 columns]"
      ]
     },
     "execution_count": 6,
     "metadata": {},
     "output_type": "execute_result"
    }
   ],
   "source": [
    "df_inmates = pd.read_csv('exinmates.csv')\n",
    "df_inmates.head()"
   ]
  },
  {
   "cell_type": "code",
   "execution_count": 7,
   "metadata": {},
   "outputs": [
    {
     "data": {
      "text/plain": [
       "28.564935064935064"
      ]
     },
     "execution_count": 7,
     "metadata": {},
     "output_type": "execute_result"
    }
   ],
   "source": [
    "df_inmates['Age Received'].mean()"
   ]
  },
  {
   "cell_type": "code",
   "execution_count": 8,
   "metadata": {},
   "outputs": [
    {
     "data": {
      "text/plain": [
       "26.954545454545453"
      ]
     },
     "execution_count": 8,
     "metadata": {},
     "output_type": "execute_result"
    }
   ],
   "source": [
    "df_inmates['Age at Offense'].mean()"
   ]
  },
  {
   "cell_type": "markdown",
   "metadata": {},
   "source": [
    "Most inmates on average are processed into death row approximately 2.5 years after their offense (quick turn around time)."
   ]
  },
  {
   "cell_type": "code",
   "execution_count": 9,
   "metadata": {},
   "outputs": [
    {
     "data": {
      "text/plain": [
       "39.3394495412844"
      ]
     },
     "execution_count": 9,
     "metadata": {},
     "output_type": "execute_result"
    }
   ],
   "source": [
    "df_inmates['Execution Age'].mean()"
   ]
  },
  {
   "cell_type": "markdown",
   "metadata": {},
   "source": [
    "Most inmates on average stay on death row for approximately 11 years before being executed."
   ]
  },
  {
   "cell_type": "code",
   "execution_count": 15,
   "metadata": {},
   "outputs": [
    {
     "data": {
      "text/plain": [
       "Male      150\n",
       "Female      3\n",
       "male        1\n",
       "Name: Gender, dtype: int64"
      ]
     },
     "execution_count": 15,
     "metadata": {},
     "output_type": "execute_result"
    }
   ],
   "source": [
    "df_inmates['Gender'].value_counts()"
   ]
  },
  {
   "cell_type": "markdown",
   "metadata": {},
   "source": [
    "Clearly, males outnumber females."
   ]
  },
  {
   "cell_type": "code",
   "execution_count": null,
   "metadata": {
    "collapsed": true
   },
   "outputs": [],
   "source": []
  }
 ],
 "metadata": {
  "kernelspec": {
   "display_name": "Python 3",
   "language": "python",
   "name": "python3"
  },
  "language_info": {
   "codemirror_mode": {
    "name": "ipython",
    "version": 3
   },
   "file_extension": ".py",
   "mimetype": "text/x-python",
   "name": "python",
   "nbconvert_exporter": "python",
   "pygments_lexer": "ipython3",
   "version": "3.6.1"
  }
 },
 "nbformat": 4,
 "nbformat_minor": 2
}
